{
 "cells": [
  {
   "cell_type": "markdown",
   "id": "b6023fd1",
   "metadata": {
    "slideshow": {
     "slide_type": "slide"
    }
   },
   "source": [
    "# Telco Churn Analysis\n",
    " \n",
    " **Introduction :**\n",
    " predicting customer churn is critical for telecommunication companies to be able to effectively retain customers."
   ]
  },
  {
   "cell_type": "code",
   "execution_count": 76,
   "id": "fa43e919",
   "metadata": {
    "slideshow": {
     "slide_type": "subslide"
    }
   },
   "outputs": [],
   "source": [
    "import pandas as pd\n",
    "import numpy as np\n",
    "import seaborn as sns\n",
    "import matplotlib.pyplot as plt\n",
    "%matplotlib inline"
   ]
  },
  {
   "cell_type": "markdown",
   "id": "a54b826b",
   "metadata": {
    "slideshow": {
     "slide_type": "slide"
    }
   },
   "source": [
    "**Load Data**"
   ]
  },
  {
   "cell_type": "code",
   "execution_count": 25,
   "id": "5cd003df",
   "metadata": {
    "slideshow": {
     "slide_type": "subslide"
    }
   },
   "outputs": [],
   "source": [
    "df = pd.read_csv('C:/Users/lenovo/Downloads/Internship project/Sample Telco Customer dataset/Telcom.csv')"
   ]
  },
  {
   "cell_type": "markdown",
   "id": "72f7cc5c",
   "metadata": {
    "slideshow": {
     "slide_type": "subslide"
    }
   },
   "source": [
    "**Overview of dataset**"
   ]
  },
  {
   "cell_type": "code",
   "execution_count": 26,
   "id": "a17415a2",
   "metadata": {
    "scrolled": true,
    "slideshow": {
     "slide_type": "subslide"
    }
   },
   "outputs": [
    {
     "data": {
      "text/html": [
       "<div>\n",
       "<style scoped>\n",
       "    .dataframe tbody tr th:only-of-type {\n",
       "        vertical-align: middle;\n",
       "    }\n",
       "\n",
       "    .dataframe tbody tr th {\n",
       "        vertical-align: top;\n",
       "    }\n",
       "\n",
       "    .dataframe thead th {\n",
       "        text-align: right;\n",
       "    }\n",
       "</style>\n",
       "<table border=\"1\" class=\"dataframe\">\n",
       "  <thead>\n",
       "    <tr style=\"text-align: right;\">\n",
       "      <th></th>\n",
       "      <th>customerID</th>\n",
       "      <th>gender</th>\n",
       "      <th>SeniorCitizen</th>\n",
       "      <th>Partner</th>\n",
       "      <th>Dependents</th>\n",
       "      <th>Tenure</th>\n",
       "      <th>PhoneService</th>\n",
       "      <th>MultipleLines</th>\n",
       "      <th>InternetService</th>\n",
       "      <th>OnlineSecurity</th>\n",
       "      <th>...</th>\n",
       "      <th>DeviceProtection</th>\n",
       "      <th>TechSupport</th>\n",
       "      <th>StreamingTV</th>\n",
       "      <th>StreamingMovies</th>\n",
       "      <th>Contract</th>\n",
       "      <th>PaperlessBilling</th>\n",
       "      <th>PaymentMethod</th>\n",
       "      <th>MonthlyCharges</th>\n",
       "      <th>TotalCharges</th>\n",
       "      <th>Churn</th>\n",
       "    </tr>\n",
       "  </thead>\n",
       "  <tbody>\n",
       "    <tr>\n",
       "      <th>0</th>\n",
       "      <td>7590-VHVEG</td>\n",
       "      <td>0</td>\n",
       "      <td>0</td>\n",
       "      <td>1</td>\n",
       "      <td>0</td>\n",
       "      <td>1</td>\n",
       "      <td>0</td>\n",
       "      <td>0</td>\n",
       "      <td>1</td>\n",
       "      <td>0</td>\n",
       "      <td>...</td>\n",
       "      <td>0</td>\n",
       "      <td>0</td>\n",
       "      <td>0</td>\n",
       "      <td>0</td>\n",
       "      <td>0</td>\n",
       "      <td>1</td>\n",
       "      <td>2</td>\n",
       "      <td>29.85</td>\n",
       "      <td>29.85</td>\n",
       "      <td>0</td>\n",
       "    </tr>\n",
       "    <tr>\n",
       "      <th>1</th>\n",
       "      <td>5575-GNVDE</td>\n",
       "      <td>1</td>\n",
       "      <td>0</td>\n",
       "      <td>0</td>\n",
       "      <td>0</td>\n",
       "      <td>34</td>\n",
       "      <td>1</td>\n",
       "      <td>0</td>\n",
       "      <td>1</td>\n",
       "      <td>1</td>\n",
       "      <td>...</td>\n",
       "      <td>1</td>\n",
       "      <td>0</td>\n",
       "      <td>0</td>\n",
       "      <td>0</td>\n",
       "      <td>1</td>\n",
       "      <td>0</td>\n",
       "      <td>3</td>\n",
       "      <td>56.95</td>\n",
       "      <td>1889.50</td>\n",
       "      <td>0</td>\n",
       "    </tr>\n",
       "    <tr>\n",
       "      <th>2</th>\n",
       "      <td>3668-QPYBK</td>\n",
       "      <td>1</td>\n",
       "      <td>0</td>\n",
       "      <td>0</td>\n",
       "      <td>0</td>\n",
       "      <td>2</td>\n",
       "      <td>1</td>\n",
       "      <td>0</td>\n",
       "      <td>1</td>\n",
       "      <td>1</td>\n",
       "      <td>...</td>\n",
       "      <td>0</td>\n",
       "      <td>0</td>\n",
       "      <td>0</td>\n",
       "      <td>0</td>\n",
       "      <td>0</td>\n",
       "      <td>1</td>\n",
       "      <td>3</td>\n",
       "      <td>53.85</td>\n",
       "      <td>108.15</td>\n",
       "      <td>1</td>\n",
       "    </tr>\n",
       "    <tr>\n",
       "      <th>3</th>\n",
       "      <td>7795-CFOCW</td>\n",
       "      <td>1</td>\n",
       "      <td>0</td>\n",
       "      <td>0</td>\n",
       "      <td>0</td>\n",
       "      <td>45</td>\n",
       "      <td>0</td>\n",
       "      <td>0</td>\n",
       "      <td>1</td>\n",
       "      <td>1</td>\n",
       "      <td>...</td>\n",
       "      <td>1</td>\n",
       "      <td>1</td>\n",
       "      <td>0</td>\n",
       "      <td>0</td>\n",
       "      <td>1</td>\n",
       "      <td>0</td>\n",
       "      <td>0</td>\n",
       "      <td>42.30</td>\n",
       "      <td>1840.75</td>\n",
       "      <td>0</td>\n",
       "    </tr>\n",
       "    <tr>\n",
       "      <th>4</th>\n",
       "      <td>9237-HQITU</td>\n",
       "      <td>0</td>\n",
       "      <td>0</td>\n",
       "      <td>0</td>\n",
       "      <td>0</td>\n",
       "      <td>2</td>\n",
       "      <td>1</td>\n",
       "      <td>0</td>\n",
       "      <td>2</td>\n",
       "      <td>0</td>\n",
       "      <td>...</td>\n",
       "      <td>0</td>\n",
       "      <td>0</td>\n",
       "      <td>0</td>\n",
       "      <td>0</td>\n",
       "      <td>0</td>\n",
       "      <td>1</td>\n",
       "      <td>2</td>\n",
       "      <td>70.70</td>\n",
       "      <td>151.65</td>\n",
       "      <td>1</td>\n",
       "    </tr>\n",
       "    <tr>\n",
       "      <th>...</th>\n",
       "      <td>...</td>\n",
       "      <td>...</td>\n",
       "      <td>...</td>\n",
       "      <td>...</td>\n",
       "      <td>...</td>\n",
       "      <td>...</td>\n",
       "      <td>...</td>\n",
       "      <td>...</td>\n",
       "      <td>...</td>\n",
       "      <td>...</td>\n",
       "      <td>...</td>\n",
       "      <td>...</td>\n",
       "      <td>...</td>\n",
       "      <td>...</td>\n",
       "      <td>...</td>\n",
       "      <td>...</td>\n",
       "      <td>...</td>\n",
       "      <td>...</td>\n",
       "      <td>...</td>\n",
       "      <td>...</td>\n",
       "      <td>...</td>\n",
       "    </tr>\n",
       "    <tr>\n",
       "      <th>7006</th>\n",
       "      <td>4807-IZYOZ</td>\n",
       "      <td>0</td>\n",
       "      <td>0</td>\n",
       "      <td>0</td>\n",
       "      <td>0</td>\n",
       "      <td>51</td>\n",
       "      <td>1</td>\n",
       "      <td>0</td>\n",
       "      <td>0</td>\n",
       "      <td>2</td>\n",
       "      <td>...</td>\n",
       "      <td>2</td>\n",
       "      <td>2</td>\n",
       "      <td>2</td>\n",
       "      <td>2</td>\n",
       "      <td>2</td>\n",
       "      <td>0</td>\n",
       "      <td>0</td>\n",
       "      <td>20.65</td>\n",
       "      <td>1020.75</td>\n",
       "      <td>0</td>\n",
       "    </tr>\n",
       "    <tr>\n",
       "      <th>7007</th>\n",
       "      <td>2234-XADUH</td>\n",
       "      <td>0</td>\n",
       "      <td>0</td>\n",
       "      <td>1</td>\n",
       "      <td>1</td>\n",
       "      <td>72</td>\n",
       "      <td>1</td>\n",
       "      <td>1</td>\n",
       "      <td>2</td>\n",
       "      <td>0</td>\n",
       "      <td>...</td>\n",
       "      <td>1</td>\n",
       "      <td>0</td>\n",
       "      <td>1</td>\n",
       "      <td>1</td>\n",
       "      <td>1</td>\n",
       "      <td>1</td>\n",
       "      <td>1</td>\n",
       "      <td>103.20</td>\n",
       "      <td>7362.90</td>\n",
       "      <td>0</td>\n",
       "    </tr>\n",
       "    <tr>\n",
       "      <th>7008</th>\n",
       "      <td>4801-JZAZL</td>\n",
       "      <td>0</td>\n",
       "      <td>0</td>\n",
       "      <td>1</td>\n",
       "      <td>1</td>\n",
       "      <td>11</td>\n",
       "      <td>0</td>\n",
       "      <td>0</td>\n",
       "      <td>1</td>\n",
       "      <td>1</td>\n",
       "      <td>...</td>\n",
       "      <td>0</td>\n",
       "      <td>0</td>\n",
       "      <td>0</td>\n",
       "      <td>0</td>\n",
       "      <td>0</td>\n",
       "      <td>1</td>\n",
       "      <td>2</td>\n",
       "      <td>29.60</td>\n",
       "      <td>346.45</td>\n",
       "      <td>0</td>\n",
       "    </tr>\n",
       "    <tr>\n",
       "      <th>7009</th>\n",
       "      <td>8361-LTMKD</td>\n",
       "      <td>1</td>\n",
       "      <td>1</td>\n",
       "      <td>1</td>\n",
       "      <td>0</td>\n",
       "      <td>4</td>\n",
       "      <td>1</td>\n",
       "      <td>1</td>\n",
       "      <td>2</td>\n",
       "      <td>0</td>\n",
       "      <td>...</td>\n",
       "      <td>0</td>\n",
       "      <td>0</td>\n",
       "      <td>0</td>\n",
       "      <td>0</td>\n",
       "      <td>0</td>\n",
       "      <td>1</td>\n",
       "      <td>3</td>\n",
       "      <td>74.40</td>\n",
       "      <td>306.60</td>\n",
       "      <td>1</td>\n",
       "    </tr>\n",
       "    <tr>\n",
       "      <th>7010</th>\n",
       "      <td>3186-AJIEK</td>\n",
       "      <td>1</td>\n",
       "      <td>0</td>\n",
       "      <td>0</td>\n",
       "      <td>0</td>\n",
       "      <td>66</td>\n",
       "      <td>1</td>\n",
       "      <td>0</td>\n",
       "      <td>2</td>\n",
       "      <td>1</td>\n",
       "      <td>...</td>\n",
       "      <td>1</td>\n",
       "      <td>1</td>\n",
       "      <td>1</td>\n",
       "      <td>1</td>\n",
       "      <td>2</td>\n",
       "      <td>1</td>\n",
       "      <td>0</td>\n",
       "      <td>105.65</td>\n",
       "      <td>6844.50</td>\n",
       "      <td>0</td>\n",
       "    </tr>\n",
       "  </tbody>\n",
       "</table>\n",
       "<p>7011 rows × 21 columns</p>\n",
       "</div>"
      ],
      "text/plain": [
       "      customerID  gender  SeniorCitizen  Partner  Dependents  Tenure  \\\n",
       "0     7590-VHVEG       0              0        1           0       1   \n",
       "1     5575-GNVDE       1              0        0           0      34   \n",
       "2     3668-QPYBK       1              0        0           0       2   \n",
       "3     7795-CFOCW       1              0        0           0      45   \n",
       "4     9237-HQITU       0              0        0           0       2   \n",
       "...          ...     ...            ...      ...         ...     ...   \n",
       "7006  4807-IZYOZ       0              0        0           0      51   \n",
       "7007  2234-XADUH       0              0        1           1      72   \n",
       "7008  4801-JZAZL       0              0        1           1      11   \n",
       "7009  8361-LTMKD       1              1        1           0       4   \n",
       "7010  3186-AJIEK       1              0        0           0      66   \n",
       "\n",
       "      PhoneService  MultipleLines  InternetService  OnlineSecurity  ...  \\\n",
       "0                0              0                1               0  ...   \n",
       "1                1              0                1               1  ...   \n",
       "2                1              0                1               1  ...   \n",
       "3                0              0                1               1  ...   \n",
       "4                1              0                2               0  ...   \n",
       "...            ...            ...              ...             ...  ...   \n",
       "7006             1              0                0               2  ...   \n",
       "7007             1              1                2               0  ...   \n",
       "7008             0              0                1               1  ...   \n",
       "7009             1              1                2               0  ...   \n",
       "7010             1              0                2               1  ...   \n",
       "\n",
       "      DeviceProtection  TechSupport  StreamingTV  StreamingMovies  Contract  \\\n",
       "0                    0            0            0                0         0   \n",
       "1                    1            0            0                0         1   \n",
       "2                    0            0            0                0         0   \n",
       "3                    1            1            0                0         1   \n",
       "4                    0            0            0                0         0   \n",
       "...                ...          ...          ...              ...       ...   \n",
       "7006                 2            2            2                2         2   \n",
       "7007                 1            0            1                1         1   \n",
       "7008                 0            0            0                0         0   \n",
       "7009                 0            0            0                0         0   \n",
       "7010                 1            1            1                1         2   \n",
       "\n",
       "      PaperlessBilling  PaymentMethod  MonthlyCharges  TotalCharges  Churn  \n",
       "0                    1              2           29.85         29.85      0  \n",
       "1                    0              3           56.95       1889.50      0  \n",
       "2                    1              3           53.85        108.15      1  \n",
       "3                    0              0           42.30       1840.75      0  \n",
       "4                    1              2           70.70        151.65      1  \n",
       "...                ...            ...             ...           ...    ...  \n",
       "7006                 0              0           20.65       1020.75      0  \n",
       "7007                 1              1          103.20       7362.90      0  \n",
       "7008                 1              2           29.60        346.45      0  \n",
       "7009                 1              3           74.40        306.60      1  \n",
       "7010                 1              0          105.65       6844.50      0  \n",
       "\n",
       "[7011 rows x 21 columns]"
      ]
     },
     "execution_count": 26,
     "metadata": {},
     "output_type": "execute_result"
    }
   ],
   "source": [
    "df"
   ]
  },
  {
   "cell_type": "markdown",
   "id": "f9509d76",
   "metadata": {
    "slideshow": {
     "slide_type": "subslide"
    }
   },
   "source": [
    "**Checking unique values of each column**\n",
    "\n",
    "\n",
    "\n",
    "\n"
   ]
  },
  {
   "cell_type": "code",
   "execution_count": 27,
   "id": "b0dd3cda",
   "metadata": {
    "slideshow": {
     "slide_type": "subslide"
    }
   },
   "outputs": [
    {
     "name": "stdout",
     "output_type": "stream",
     "text": [
      "Unique customerID's count: 7011\n",
      "['7590-VHVEG' '5575-GNVDE' '3668-QPYBK' ... '4801-JZAZL' '8361-LTMKD'\n",
      " '3186-AJIEK']\n",
      "\n",
      "Unique gender's count: 2\n",
      "[0 1]\n",
      "\n",
      "Unique SeniorCitizen's count: 2\n",
      "[0 1]\n",
      "\n",
      "Unique Partner's count: 2\n",
      "[1 0]\n",
      "\n",
      "Unique Dependents's count: 2\n",
      "[0 1]\n",
      "\n",
      "Unique Tenure's count: 72\n",
      "[ 1 34  2 45  8 22 10 28 62 13 16 58 49 25 69 52 71 21 12 30 47 72 17 27\n",
      "  5 46 11 70 63 43 15 60 18 66  9  3 31 50 64 56  7 42 35 48 29 65 38 68\n",
      " 32 55 37 36 41  6  4 33 67 23 57 61 14 20 53 40 59 24 44 19 54 51 26 39]\n",
      "\n",
      "Unique PhoneService's count: 2\n",
      "[0 1]\n",
      "\n",
      "Unique MultipleLines's count: 2\n",
      "[0 1]\n",
      "\n",
      "Unique InternetService's count: 3\n",
      "[1 2 0]\n",
      "\n",
      "Unique OnlineSecurity's count: 3\n",
      "[0 1 2]\n",
      "\n",
      "Unique OnlineBackup's count: 3\n",
      "[1 0 2]\n",
      "\n",
      "Unique DeviceProtection's count: 3\n",
      "[0 1 2]\n",
      "\n",
      "Unique TechSupport's count: 3\n",
      "[0 1 2]\n",
      "\n",
      "Unique StreamingTV's count: 3\n",
      "[0 1 2]\n",
      "\n",
      "Unique StreamingMovies's count: 3\n",
      "[0 1 2]\n",
      "\n",
      "Unique Contract's count: 3\n",
      "[0 1 2]\n",
      "\n",
      "Unique PaperlessBilling's count: 2\n",
      "[1 0]\n",
      "\n",
      "Unique PaymentMethod's count: 4\n",
      "[2 3 0 1]\n",
      "\n",
      "Unique MonthlyCharges's count: 1582\n",
      "[ 29.85  56.95  53.85 ...  72.   108.35  63.1 ]\n",
      "\n",
      "Unique TotalCharges's count: 6510\n",
      "[  29.85 1889.5   108.15 ...  346.45  306.6  6844.5 ]\n",
      "\n",
      "Unique Churn's count: 2\n",
      "[0 1]\n",
      "\n"
     ]
    }
   ],
   "source": [
    "for i in df.columns:\n",
    "    print(f\"Unique {i}'s count: {df[i].nunique()}\")\n",
    "    print(f\"{df[i].unique()}\\n\")"
   ]
  },
  {
   "cell_type": "markdown",
   "id": "da921e3a",
   "metadata": {
    "slideshow": {
     "slide_type": "slide"
    }
   },
   "source": [
    "# **Data Exploration**"
   ]
  },
  {
   "cell_type": "code",
   "execution_count": 38,
   "id": "5ceca0eb",
   "metadata": {
    "slideshow": {
     "slide_type": "subslide"
    }
   },
   "outputs": [],
   "source": [
    "plt.style.use(\"fivethirtyeight\")"
   ]
  },
  {
   "cell_type": "code",
   "execution_count": 39,
   "id": "8c033ba0",
   "metadata": {
    "slideshow": {
     "slide_type": "subslide"
    }
   },
   "outputs": [
    {
     "data": {
      "image/png": "[encoded data removed]",
      "text/plain": [
       "<Figure size 360x360 with 1 Axes>"
      ]
     },
     "metadata": {},
     "output_type": "display_data"
    }
   ],
   "source": [
    "plt.figure(figsize=(5, 5))\n",
    "ax = sns.countplot(x=df['Churn'], palette=\"Blues\", linewidth=1)\n",
    "plt.show()"
   ]
  },
  {
   "cell_type": "code",
   "execution_count": 78,
   "id": "5ae3b7ec",
   "metadata": {
    "slideshow": {
     "slide_type": "subslide"
    }
   },
   "outputs": [],
   "source": [
    "\n",
    "\n",
    "plots = {\n",
    "    1: [111],\n",
    "    2: [121, 122],\n",
    "    3: [131, 132, 133],\n",
    "    4: [221, 222, 223, 224],\n",
    "    5: [231, 232, 233, 234, 235],\n",
    "    6: [231, 232, 233, 234, 235, 236]\n",
    "}\n",
    "\n",
    "def boxplot(x, y, df):\n",
    "    rows = int(str(plots[len(y)][0])[0])\n",
    "    columns = int(str(plots[len(y)][0])[1])\n",
    "    plt.figure(figsize=(7 * columns, 7 * rows))\n",
    "    \n",
    "    for i, j in enumerate(y):\n",
    "        plt.subplot(plots[len(y)][i])\n",
    "        ax = sns.boxplot(x=x, y=j, data=df, palette=\"Blues\", linewidth=1)\n",
    "        ax.set_title(j)\n",
    "\n",
    "    plt.show()\n"
   ]
  },
  {
   "cell_type": "code",
   "execution_count": 79,
   "id": "d81b8451",
   "metadata": {
    "slideshow": {
     "slide_type": "subslide"
    }
   },
   "outputs": [
    {
     "data": {
      "image/png": "[encoded data removed]",
      "text/plain": [
       "<Figure size 1512x504 with 3 Axes>"
      ]
     },
     "metadata": {
      "needs_background": "light"
     },
     "output_type": "display_data"
    }
   ],
   "source": [
    "boxplot(\"Churn\", [\"Tenure\", \"MonthlyCharges\", \"TotalCharges\"],df)"
   ]
  },
  {
   "cell_type": "code",
   "execution_count": 70,
   "id": "042a88fa",
   "metadata": {
    "slideshow": {
     "slide_type": "subslide"
    }
   },
   "outputs": [],
   "source": [
    "\n",
    "def countplot(x, y, df):\n",
    "    num_plots = len(y)\n",
    "    rows = num_plots // 2 + num_plots % 2  # Calculate the number of rows\n",
    "    columns = 2  # Two columns for each row\n",
    "\n",
    "    plt.figure(figsize=(7 * columns, 7 * rows))\n",
    "\n",
    "    for i, j in enumerate(y):\n",
    "        plt.subplot(rows, columns, i + 1)\n",
    "        ax = sns.countplot(x=j, hue=x, data=df, palette=\"Blues\", alpha=0.8, linewidth=0.4, edgecolor='black')\n",
    "        ax.set_title(j)\n",
    "\n",
    "    plt.show()"
   ]
  },
  {
   "cell_type": "code",
   "execution_count": 71,
   "id": "ee78e5f7",
   "metadata": {
    "slideshow": {
     "slide_type": "subslide"
    }
   },
   "outputs": [
    {
     "data": {
      "image/png": "[encoded data removed]",
      "text/plain": [
       "<Figure size 1008x1512 with 6 Axes>"
      ]
     },
     "metadata": {
      "needs_background": "light"
     },
     "output_type": "display_data"
    }
   ],
   "source": [
    "countplot(\"Churn\",['SeniorCitizen', 'Contract', 'Partner', 'Dependents', 'PaymentMethod', 'InternetService'],df)"
   ]
  },
  {
   "cell_type": "markdown",
   "id": "ee323db1",
   "metadata": {
    "slideshow": {
     "slide_type": "subslide"
    }
   },
   "source": [
    "**SeniorCitizen:** Indicates if the customer is 65 or older: No (0), Yes (1)."
   ]
  },
  {
   "cell_type": "markdown",
   "id": "d022092d",
   "metadata": {
    "slideshow": {
     "slide_type": "subslide"
    }
   },
   "source": [
    "**Contract:** Indicates the customer’s current contract type: Month-to-Month (0), One Year (1), Two Year (2)."
   ]
  },
  {
   "cell_type": "markdown",
   "id": "283a1dcc",
   "metadata": {
    "slideshow": {
     "slide_type": "subslide"
    }
   },
   "source": [
    "**Partner:** Service contract is resold by the partner: No (0), Yes (1)."
   ]
  },
  {
   "cell_type": "markdown",
   "id": "25a2996e",
   "metadata": {
    "slideshow": {
     "slide_type": "subslide"
    }
   },
   "source": [
    "**Dependents:** Indicates if the customer lives with any dependents: No (0), Yes (1)."
   ]
  },
  {
   "cell_type": "markdown",
   "id": "14eb1119",
   "metadata": {
    "slideshow": {
     "slide_type": "subslide"
    }
   },
   "source": [
    "**PaymentMethod:** Indicates how the customer pays their bill: Bank transfer - automatic (0), Credit card - automatic (1), Electronic cheque (2), Mailed cheque (3)"
   ]
  },
  {
   "cell_type": "markdown",
   "id": "476ccb36",
   "metadata": {
    "slideshow": {
     "slide_type": "subslide"
    }
   },
   "source": [
    "**InternetService:** Indicates if the customer subscribes to Internet service with the company: No (0), DSL (1), Fiber optic (2)."
   ]
  },
  {
   "cell_type": "markdown",
   "id": "0976459a",
   "metadata": {
    "slideshow": {
     "slide_type": "slide"
    }
   },
   "source": [
    "# Data Analysis and Data Cleaning"
   ]
  },
  {
   "cell_type": "markdown",
   "id": "ce029413",
   "metadata": {
    "slideshow": {
     "slide_type": "subslide"
    }
   },
   "source": [
    " **Summary of dataset**"
   ]
  },
  {
   "cell_type": "code",
   "execution_count": 28,
   "id": "a0ef0509",
   "metadata": {
    "slideshow": {
     "slide_type": "subslide"
    }
   },
   "outputs": [
    {
     "name": "stdout",
     "output_type": "stream",
     "text": [
      "<class 'pandas.core.frame.DataFrame'>\n",
      "RangeIndex: 7011 entries, 0 to 7010\n",
      "Data columns (total 21 columns):\n",
      " #   Column            Non-Null Count  Dtype  \n",
      "---  ------            --------------  -----  \n",
      " 0   customerID        7011 non-null   object \n",
      " 1   gender            7011 non-null   int64  \n",
      " 2   SeniorCitizen     7011 non-null   int64  \n",
      " 3   Partner           7011 non-null   int64  \n",
      " 4   Dependents        7011 non-null   int64  \n",
      " 5   Tenure            7011 non-null   int64  \n",
      " 6   PhoneService      7011 non-null   int64  \n",
      " 7   MultipleLines     7011 non-null   int64  \n",
      " 8   InternetService   7011 non-null   int64  \n",
      " 9   OnlineSecurity    7011 non-null   int64  \n",
      " 10  OnlineBackup      7011 non-null   int64  \n",
      " 11  DeviceProtection  7011 non-null   int64  \n",
      " 12  TechSupport       7011 non-null   int64  \n",
      " 13  StreamingTV       7011 non-null   int64  \n",
      " 14  StreamingMovies   7011 non-null   int64  \n",
      " 15  Contract          7011 non-null   int64  \n",
      " 16  PaperlessBilling  7011 non-null   int64  \n",
      " 17  PaymentMethod     7011 non-null   int64  \n",
      " 18  MonthlyCharges    7011 non-null   float64\n",
      " 19  TotalCharges      7011 non-null   float64\n",
      " 20  Churn             7011 non-null   int64  \n",
      "dtypes: float64(2), int64(18), object(1)\n",
      "memory usage: 1.1+ MB\n"
     ]
    }
   ],
   "source": [
    "df.info()"
   ]
  },
  {
   "cell_type": "code",
   "execution_count": 29,
   "id": "5aacb7b7",
   "metadata": {
    "slideshow": {
     "slide_type": "subslide"
    }
   },
   "outputs": [
    {
     "data": {
      "text/html": [
       "<div>\n",
       "<style scoped>\n",
       "    .dataframe tbody tr th:only-of-type {\n",
       "        vertical-align: middle;\n",
       "    }\n",
       "\n",
       "    .dataframe tbody tr th {\n",
       "        vertical-align: top;\n",
       "    }\n",
       "\n",
       "    .dataframe thead th {\n",
       "        text-align: right;\n",
       "    }\n",
       "</style>\n",
       "<table border=\"1\" class=\"dataframe\">\n",
       "  <thead>\n",
       "    <tr style=\"text-align: right;\">\n",
       "      <th></th>\n",
       "      <th>customerID</th>\n",
       "      <th>gender</th>\n",
       "      <th>SeniorCitizen</th>\n",
       "      <th>Partner</th>\n",
       "      <th>Dependents</th>\n",
       "      <th>Tenure</th>\n",
       "      <th>PhoneService</th>\n",
       "      <th>MultipleLines</th>\n",
       "      <th>InternetService</th>\n",
       "      <th>OnlineSecurity</th>\n",
       "      <th>...</th>\n",
       "      <th>DeviceProtection</th>\n",
       "      <th>TechSupport</th>\n",
       "      <th>StreamingTV</th>\n",
       "      <th>StreamingMovies</th>\n",
       "      <th>Contract</th>\n",
       "      <th>PaperlessBilling</th>\n",
       "      <th>PaymentMethod</th>\n",
       "      <th>MonthlyCharges</th>\n",
       "      <th>TotalCharges</th>\n",
       "      <th>Churn</th>\n",
       "    </tr>\n",
       "  </thead>\n",
       "  <tbody>\n",
       "    <tr>\n",
       "      <th>0</th>\n",
       "      <td>False</td>\n",
       "      <td>False</td>\n",
       "      <td>False</td>\n",
       "      <td>False</td>\n",
       "      <td>False</td>\n",
       "      <td>False</td>\n",
       "      <td>False</td>\n",
       "      <td>False</td>\n",
       "      <td>False</td>\n",
       "      <td>False</td>\n",
       "      <td>...</td>\n",
       "      <td>False</td>\n",
       "      <td>False</td>\n",
       "      <td>False</td>\n",
       "      <td>False</td>\n",
       "      <td>False</td>\n",
       "      <td>False</td>\n",
       "      <td>False</td>\n",
       "      <td>False</td>\n",
       "      <td>False</td>\n",
       "      <td>False</td>\n",
       "    </tr>\n",
       "    <tr>\n",
       "      <th>1</th>\n",
       "      <td>False</td>\n",
       "      <td>False</td>\n",
       "      <td>False</td>\n",
       "      <td>False</td>\n",
       "      <td>False</td>\n",
       "      <td>False</td>\n",
       "      <td>False</td>\n",
       "      <td>False</td>\n",
       "      <td>False</td>\n",
       "      <td>False</td>\n",
       "      <td>...</td>\n",
       "      <td>False</td>\n",
       "      <td>False</td>\n",
       "      <td>False</td>\n",
       "      <td>False</td>\n",
       "      <td>False</td>\n",
       "      <td>False</td>\n",
       "      <td>False</td>\n",
       "      <td>False</td>\n",
       "      <td>False</td>\n",
       "      <td>False</td>\n",
       "    </tr>\n",
       "    <tr>\n",
       "      <th>2</th>\n",
       "      <td>False</td>\n",
       "      <td>False</td>\n",
       "      <td>False</td>\n",
       "      <td>False</td>\n",
       "      <td>False</td>\n",
       "      <td>False</td>\n",
       "      <td>False</td>\n",
       "      <td>False</td>\n",
       "      <td>False</td>\n",
       "      <td>False</td>\n",
       "      <td>...</td>\n",
       "      <td>False</td>\n",
       "      <td>False</td>\n",
       "      <td>False</td>\n",
       "      <td>False</td>\n",
       "      <td>False</td>\n",
       "      <td>False</td>\n",
       "      <td>False</td>\n",
       "      <td>False</td>\n",
       "      <td>False</td>\n",
       "      <td>False</td>\n",
       "    </tr>\n",
       "    <tr>\n",
       "      <th>3</th>\n",
       "      <td>False</td>\n",
       "      <td>False</td>\n",
       "      <td>False</td>\n",
       "      <td>False</td>\n",
       "      <td>False</td>\n",
       "      <td>False</td>\n",
       "      <td>False</td>\n",
       "      <td>False</td>\n",
       "      <td>False</td>\n",
       "      <td>False</td>\n",
       "      <td>...</td>\n",
       "      <td>False</td>\n",
       "      <td>False</td>\n",
       "      <td>False</td>\n",
       "      <td>False</td>\n",
       "      <td>False</td>\n",
       "      <td>False</td>\n",
       "      <td>False</td>\n",
       "      <td>False</td>\n",
       "      <td>False</td>\n",
       "      <td>False</td>\n",
       "    </tr>\n",
       "    <tr>\n",
       "      <th>4</th>\n",
       "      <td>False</td>\n",
       "      <td>False</td>\n",
       "      <td>False</td>\n",
       "      <td>False</td>\n",
       "      <td>False</td>\n",
       "      <td>False</td>\n",
       "      <td>False</td>\n",
       "      <td>False</td>\n",
       "      <td>False</td>\n",
       "      <td>False</td>\n",
       "      <td>...</td>\n",
       "      <td>False</td>\n",
       "      <td>False</td>\n",
       "      <td>False</td>\n",
       "      <td>False</td>\n",
       "      <td>False</td>\n",
       "      <td>False</td>\n",
       "      <td>False</td>\n",
       "      <td>False</td>\n",
       "      <td>False</td>\n",
       "      <td>False</td>\n",
       "    </tr>\n",
       "    <tr>\n",
       "      <th>...</th>\n",
       "      <td>...</td>\n",
       "      <td>...</td>\n",
       "      <td>...</td>\n",
       "      <td>...</td>\n",
       "      <td>...</td>\n",
       "      <td>...</td>\n",
       "      <td>...</td>\n",
       "      <td>...</td>\n",
       "      <td>...</td>\n",
       "      <td>...</td>\n",
       "      <td>...</td>\n",
       "      <td>...</td>\n",
       "      <td>...</td>\n",
       "      <td>...</td>\n",
       "      <td>...</td>\n",
       "      <td>...</td>\n",
       "      <td>...</td>\n",
       "      <td>...</td>\n",
       "      <td>...</td>\n",
       "      <td>...</td>\n",
       "      <td>...</td>\n",
       "    </tr>\n",
       "    <tr>\n",
       "      <th>7006</th>\n",
       "      <td>False</td>\n",
       "      <td>False</td>\n",
       "      <td>False</td>\n",
       "      <td>False</td>\n",
       "      <td>False</td>\n",
       "      <td>False</td>\n",
       "      <td>False</td>\n",
       "      <td>False</td>\n",
       "      <td>False</td>\n",
       "      <td>False</td>\n",
       "      <td>...</td>\n",
       "      <td>False</td>\n",
       "      <td>False</td>\n",
       "      <td>False</td>\n",
       "      <td>False</td>\n",
       "      <td>False</td>\n",
       "      <td>False</td>\n",
       "      <td>False</td>\n",
       "      <td>False</td>\n",
       "      <td>False</td>\n",
       "      <td>False</td>\n",
       "    </tr>\n",
       "    <tr>\n",
       "      <th>7007</th>\n",
       "      <td>False</td>\n",
       "      <td>False</td>\n",
       "      <td>False</td>\n",
       "      <td>False</td>\n",
       "      <td>False</td>\n",
       "      <td>False</td>\n",
       "      <td>False</td>\n",
       "      <td>False</td>\n",
       "      <td>False</td>\n",
       "      <td>False</td>\n",
       "      <td>...</td>\n",
       "      <td>False</td>\n",
       "      <td>False</td>\n",
       "      <td>False</td>\n",
       "      <td>False</td>\n",
       "      <td>False</td>\n",
       "      <td>False</td>\n",
       "      <td>False</td>\n",
       "      <td>False</td>\n",
       "      <td>False</td>\n",
       "      <td>False</td>\n",
       "    </tr>\n",
       "    <tr>\n",
       "      <th>7008</th>\n",
       "      <td>False</td>\n",
       "      <td>False</td>\n",
       "      <td>False</td>\n",
       "      <td>False</td>\n",
       "      <td>False</td>\n",
       "      <td>False</td>\n",
       "      <td>False</td>\n",
       "      <td>False</td>\n",
       "      <td>False</td>\n",
       "      <td>False</td>\n",
       "      <td>...</td>\n",
       "      <td>False</td>\n",
       "      <td>False</td>\n",
       "      <td>False</td>\n",
       "      <td>False</td>\n",
       "      <td>False</td>\n",
       "      <td>False</td>\n",
       "      <td>False</td>\n",
       "      <td>False</td>\n",
       "      <td>False</td>\n",
       "      <td>False</td>\n",
       "    </tr>\n",
       "    <tr>\n",
       "      <th>7009</th>\n",
       "      <td>False</td>\n",
       "      <td>False</td>\n",
       "      <td>False</td>\n",
       "      <td>False</td>\n",
       "      <td>False</td>\n",
       "      <td>False</td>\n",
       "      <td>False</td>\n",
       "      <td>False</td>\n",
       "      <td>False</td>\n",
       "      <td>False</td>\n",
       "      <td>...</td>\n",
       "      <td>False</td>\n",
       "      <td>False</td>\n",
       "      <td>False</td>\n",
       "      <td>False</td>\n",
       "      <td>False</td>\n",
       "      <td>False</td>\n",
       "      <td>False</td>\n",
       "      <td>False</td>\n",
       "      <td>False</td>\n",
       "      <td>False</td>\n",
       "    </tr>\n",
       "    <tr>\n",
       "      <th>7010</th>\n",
       "      <td>False</td>\n",
       "      <td>False</td>\n",
       "      <td>False</td>\n",
       "      <td>False</td>\n",
       "      <td>False</td>\n",
       "      <td>False</td>\n",
       "      <td>False</td>\n",
       "      <td>False</td>\n",
       "      <td>False</td>\n",
       "      <td>False</td>\n",
       "      <td>...</td>\n",
       "      <td>False</td>\n",
       "      <td>False</td>\n",
       "      <td>False</td>\n",
       "      <td>False</td>\n",
       "      <td>False</td>\n",
       "      <td>False</td>\n",
       "      <td>False</td>\n",
       "      <td>False</td>\n",
       "      <td>False</td>\n",
       "      <td>False</td>\n",
       "    </tr>\n",
       "  </tbody>\n",
       "</table>\n",
       "<p>7011 rows × 21 columns</p>\n",
       "</div>"
      ],
      "text/plain": [
       "      customerID  gender  SeniorCitizen  Partner  Dependents  Tenure  \\\n",
       "0          False   False          False    False       False   False   \n",
       "1          False   False          False    False       False   False   \n",
       "2          False   False          False    False       False   False   \n",
       "3          False   False          False    False       False   False   \n",
       "4          False   False          False    False       False   False   \n",
       "...          ...     ...            ...      ...         ...     ...   \n",
       "7006       False   False          False    False       False   False   \n",
       "7007       False   False          False    False       False   False   \n",
       "7008       False   False          False    False       False   False   \n",
       "7009       False   False          False    False       False   False   \n",
       "7010       False   False          False    False       False   False   \n",
       "\n",
       "      PhoneService  MultipleLines  InternetService  OnlineSecurity  ...  \\\n",
       "0            False          False            False           False  ...   \n",
       "1            False          False            False           False  ...   \n",
       "2            False          False            False           False  ...   \n",
       "3            False          False            False           False  ...   \n",
       "4            False          False            False           False  ...   \n",
       "...            ...            ...              ...             ...  ...   \n",
       "7006         False          False            False           False  ...   \n",
       "7007         False          False            False           False  ...   \n",
       "7008         False          False            False           False  ...   \n",
       "7009         False          False            False           False  ...   \n",
       "7010         False          False            False           False  ...   \n",
       "\n",
       "      DeviceProtection  TechSupport  StreamingTV  StreamingMovies  Contract  \\\n",
       "0                False        False        False            False     False   \n",
       "1                False        False        False            False     False   \n",
       "2                False        False        False            False     False   \n",
       "3                False        False        False            False     False   \n",
       "4                False        False        False            False     False   \n",
       "...                ...          ...          ...              ...       ...   \n",
       "7006             False        False        False            False     False   \n",
       "7007             False        False        False            False     False   \n",
       "7008             False        False        False            False     False   \n",
       "7009             False        False        False            False     False   \n",
       "7010             False        False        False            False     False   \n",
       "\n",
       "      PaperlessBilling  PaymentMethod  MonthlyCharges  TotalCharges  Churn  \n",
       "0                False          False           False         False  False  \n",
       "1                False          False           False         False  False  \n",
       "2                False          False           False         False  False  \n",
       "3                False          False           False         False  False  \n",
       "4                False          False           False         False  False  \n",
       "...                ...            ...             ...           ...    ...  \n",
       "7006             False          False           False         False  False  \n",
       "7007             False          False           False         False  False  \n",
       "7008             False          False           False         False  False  \n",
       "7009             False          False           False         False  False  \n",
       "7010             False          False           False         False  False  \n",
       "\n",
       "[7011 rows x 21 columns]"
      ]
     },
     "execution_count": 29,
     "metadata": {},
     "output_type": "execute_result"
    }
   ],
   "source": [
    "df.isnull()"
   ]
  },
  {
   "cell_type": "markdown",
   "id": "2c1039bb",
   "metadata": {
    "slideshow": {
     "slide_type": "subslide"
    }
   },
   "source": [
    " **Drop the customerID column from the dataset**"
   ]
  },
  {
   "cell_type": "markdown",
   "id": "f43e65ae",
   "metadata": {
    "slideshow": {
     "slide_type": "subslide"
    }
   },
   "source": [
    "The CustomerID column is useless to explain whether not the customer will churn."
   ]
  },
  {
   "cell_type": "code",
   "execution_count": 30,
   "id": "60ee3f0e",
   "metadata": {
    "slideshow": {
     "slide_type": "subslide"
    }
   },
   "outputs": [],
   "source": [
    "df.drop(columns='customerID',inplace=True)"
   ]
  },
  {
   "cell_type": "code",
   "execution_count": 33,
   "id": "abd0991f",
   "metadata": {
    "slideshow": {
     "slide_type": "subslide"
    }
   },
   "outputs": [
    {
     "data": {
      "text/html": [
       "<div>\n",
       "<style scoped>\n",
       "    .dataframe tbody tr th:only-of-type {\n",
       "        vertical-align: middle;\n",
       "    }\n",
       "\n",
       "    .dataframe tbody tr th {\n",
       "        vertical-align: top;\n",
       "    }\n",
       "\n",
       "    .dataframe thead th {\n",
       "        text-align: right;\n",
       "    }\n",
       "</style>\n",
       "<table border=\"1\" class=\"dataframe\">\n",
       "  <thead>\n",
       "    <tr style=\"text-align: right;\">\n",
       "      <th></th>\n",
       "      <th>gender</th>\n",
       "      <th>SeniorCitizen</th>\n",
       "      <th>Partner</th>\n",
       "      <th>Dependents</th>\n",
       "      <th>Tenure</th>\n",
       "      <th>PhoneService</th>\n",
       "      <th>MultipleLines</th>\n",
       "      <th>InternetService</th>\n",
       "      <th>OnlineSecurity</th>\n",
       "      <th>OnlineBackup</th>\n",
       "      <th>DeviceProtection</th>\n",
       "      <th>TechSupport</th>\n",
       "      <th>StreamingTV</th>\n",
       "      <th>StreamingMovies</th>\n",
       "      <th>Contract</th>\n",
       "      <th>PaperlessBilling</th>\n",
       "      <th>PaymentMethod</th>\n",
       "      <th>MonthlyCharges</th>\n",
       "      <th>TotalCharges</th>\n",
       "      <th>Churn</th>\n",
       "    </tr>\n",
       "  </thead>\n",
       "  <tbody>\n",
       "    <tr>\n",
       "      <th>0</th>\n",
       "      <td>0</td>\n",
       "      <td>0</td>\n",
       "      <td>1</td>\n",
       "      <td>0</td>\n",
       "      <td>1</td>\n",
       "      <td>0</td>\n",
       "      <td>0</td>\n",
       "      <td>1</td>\n",
       "      <td>0</td>\n",
       "      <td>1</td>\n",
       "      <td>0</td>\n",
       "      <td>0</td>\n",
       "      <td>0</td>\n",
       "      <td>0</td>\n",
       "      <td>0</td>\n",
       "      <td>1</td>\n",
       "      <td>2</td>\n",
       "      <td>29.85</td>\n",
       "      <td>29.85</td>\n",
       "      <td>0</td>\n",
       "    </tr>\n",
       "    <tr>\n",
       "      <th>1</th>\n",
       "      <td>1</td>\n",
       "      <td>0</td>\n",
       "      <td>0</td>\n",
       "      <td>0</td>\n",
       "      <td>34</td>\n",
       "      <td>1</td>\n",
       "      <td>0</td>\n",
       "      <td>1</td>\n",
       "      <td>1</td>\n",
       "      <td>0</td>\n",
       "      <td>1</td>\n",
       "      <td>0</td>\n",
       "      <td>0</td>\n",
       "      <td>0</td>\n",
       "      <td>1</td>\n",
       "      <td>0</td>\n",
       "      <td>3</td>\n",
       "      <td>56.95</td>\n",
       "      <td>1889.50</td>\n",
       "      <td>0</td>\n",
       "    </tr>\n",
       "    <tr>\n",
       "      <th>2</th>\n",
       "      <td>1</td>\n",
       "      <td>0</td>\n",
       "      <td>0</td>\n",
       "      <td>0</td>\n",
       "      <td>2</td>\n",
       "      <td>1</td>\n",
       "      <td>0</td>\n",
       "      <td>1</td>\n",
       "      <td>1</td>\n",
       "      <td>1</td>\n",
       "      <td>0</td>\n",
       "      <td>0</td>\n",
       "      <td>0</td>\n",
       "      <td>0</td>\n",
       "      <td>0</td>\n",
       "      <td>1</td>\n",
       "      <td>3</td>\n",
       "      <td>53.85</td>\n",
       "      <td>108.15</td>\n",
       "      <td>1</td>\n",
       "    </tr>\n",
       "    <tr>\n",
       "      <th>3</th>\n",
       "      <td>1</td>\n",
       "      <td>0</td>\n",
       "      <td>0</td>\n",
       "      <td>0</td>\n",
       "      <td>45</td>\n",
       "      <td>0</td>\n",
       "      <td>0</td>\n",
       "      <td>1</td>\n",
       "      <td>1</td>\n",
       "      <td>0</td>\n",
       "      <td>1</td>\n",
       "      <td>1</td>\n",
       "      <td>0</td>\n",
       "      <td>0</td>\n",
       "      <td>1</td>\n",
       "      <td>0</td>\n",
       "      <td>0</td>\n",
       "      <td>42.30</td>\n",
       "      <td>1840.75</td>\n",
       "      <td>0</td>\n",
       "    </tr>\n",
       "    <tr>\n",
       "      <th>4</th>\n",
       "      <td>0</td>\n",
       "      <td>0</td>\n",
       "      <td>0</td>\n",
       "      <td>0</td>\n",
       "      <td>2</td>\n",
       "      <td>1</td>\n",
       "      <td>0</td>\n",
       "      <td>2</td>\n",
       "      <td>0</td>\n",
       "      <td>0</td>\n",
       "      <td>0</td>\n",
       "      <td>0</td>\n",
       "      <td>0</td>\n",
       "      <td>0</td>\n",
       "      <td>0</td>\n",
       "      <td>1</td>\n",
       "      <td>2</td>\n",
       "      <td>70.70</td>\n",
       "      <td>151.65</td>\n",
       "      <td>1</td>\n",
       "    </tr>\n",
       "  </tbody>\n",
       "</table>\n",
       "</div>"
      ],
      "text/plain": [
       "   gender  SeniorCitizen  Partner  Dependents  Tenure  PhoneService  \\\n",
       "0       0              0        1           0       1             0   \n",
       "1       1              0        0           0      34             1   \n",
       "2       1              0        0           0       2             1   \n",
       "3       1              0        0           0      45             0   \n",
       "4       0              0        0           0       2             1   \n",
       "\n",
       "   MultipleLines  InternetService  OnlineSecurity  OnlineBackup  \\\n",
       "0              0                1               0             1   \n",
       "1              0                1               1             0   \n",
       "2              0                1               1             1   \n",
       "3              0                1               1             0   \n",
       "4              0                2               0             0   \n",
       "\n",
       "   DeviceProtection  TechSupport  StreamingTV  StreamingMovies  Contract  \\\n",
       "0                 0            0            0                0         0   \n",
       "1                 1            0            0                0         1   \n",
       "2                 0            0            0                0         0   \n",
       "3                 1            1            0                0         1   \n",
       "4                 0            0            0                0         0   \n",
       "\n",
       "   PaperlessBilling  PaymentMethod  MonthlyCharges  TotalCharges  Churn  \n",
       "0                 1              2           29.85         29.85      0  \n",
       "1                 0              3           56.95       1889.50      0  \n",
       "2                 1              3           53.85        108.15      1  \n",
       "3                 0              0           42.30       1840.75      0  \n",
       "4                 1              2           70.70        151.65      1  "
      ]
     },
     "execution_count": 33,
     "metadata": {},
     "output_type": "execute_result"
    }
   ],
   "source": [
    "df.head()"
   ]
  },
  {
   "cell_type": "markdown",
   "id": "d128a9d4",
   "metadata": {
    "slideshow": {
     "slide_type": "subslide"
    }
   },
   "source": [
    " **Unique elements of the paymentMethod column**"
   ]
  },
  {
   "cell_type": "code",
   "execution_count": 31,
   "id": "7f9dcf59",
   "metadata": {
    "slideshow": {
     "slide_type": "subslide"
    }
   },
   "outputs": [
    {
     "data": {
      "text/plain": [
       "array([2, 3, 0, 1], dtype=int64)"
      ]
     },
     "execution_count": 31,
     "metadata": {},
     "output_type": "execute_result"
    }
   ],
   "source": [
    "df.PaymentMethod.unique()"
   ]
  },
  {
   "cell_type": "markdown",
   "id": "68fa1038",
   "metadata": {
    "slideshow": {
     "slide_type": "fragment"
    }
   },
   "source": [
    "**Bank transfer  (0), Credit card  (1), Electronic cheque (2), Mailed cheque (3).**"
   ]
  },
  {
   "cell_type": "code",
   "execution_count": 32,
   "id": "b1abcc8e",
   "metadata": {
    "slideshow": {
     "slide_type": "subslide"
    }
   },
   "outputs": [
    {
     "data": {
      "text/html": [
       "<div>\n",
       "<style scoped>\n",
       "    .dataframe tbody tr th:only-of-type {\n",
       "        vertical-align: middle;\n",
       "    }\n",
       "\n",
       "    .dataframe tbody tr th {\n",
       "        vertical-align: top;\n",
       "    }\n",
       "\n",
       "    .dataframe thead th {\n",
       "        text-align: right;\n",
       "    }\n",
       "</style>\n",
       "<table border=\"1\" class=\"dataframe\">\n",
       "  <thead>\n",
       "    <tr style=\"text-align: right;\">\n",
       "      <th></th>\n",
       "      <th>gender</th>\n",
       "      <th>SeniorCitizen</th>\n",
       "      <th>Partner</th>\n",
       "      <th>Dependents</th>\n",
       "      <th>Tenure</th>\n",
       "      <th>PhoneService</th>\n",
       "      <th>MultipleLines</th>\n",
       "      <th>InternetService</th>\n",
       "      <th>OnlineSecurity</th>\n",
       "      <th>OnlineBackup</th>\n",
       "      <th>DeviceProtection</th>\n",
       "      <th>TechSupport</th>\n",
       "      <th>StreamingTV</th>\n",
       "      <th>StreamingMovies</th>\n",
       "      <th>Contract</th>\n",
       "      <th>PaperlessBilling</th>\n",
       "      <th>PaymentMethod</th>\n",
       "      <th>MonthlyCharges</th>\n",
       "      <th>TotalCharges</th>\n",
       "      <th>Churn</th>\n",
       "    </tr>\n",
       "  </thead>\n",
       "  <tbody>\n",
       "    <tr>\n",
       "      <th>count</th>\n",
       "      <td>7011.000000</td>\n",
       "      <td>7011.000000</td>\n",
       "      <td>7011.000000</td>\n",
       "      <td>7011.000000</td>\n",
       "      <td>7011.000000</td>\n",
       "      <td>7011.000000</td>\n",
       "      <td>7011.000000</td>\n",
       "      <td>7011.000000</td>\n",
       "      <td>7011.000000</td>\n",
       "      <td>7011.00000</td>\n",
       "      <td>7011.000000</td>\n",
       "      <td>7011.000000</td>\n",
       "      <td>7011.000000</td>\n",
       "      <td>7011.000000</td>\n",
       "      <td>7011.00000</td>\n",
       "      <td>7011.000000</td>\n",
       "      <td>7011.000000</td>\n",
       "      <td>7011.000000</td>\n",
       "      <td>7011.000000</td>\n",
       "      <td>7011.000000</td>\n",
       "    </tr>\n",
       "    <tr>\n",
       "      <th>mean</th>\n",
       "      <td>0.504636</td>\n",
       "      <td>0.162316</td>\n",
       "      <td>0.482955</td>\n",
       "      <td>0.298959</td>\n",
       "      <td>32.426615</td>\n",
       "      <td>0.903295</td>\n",
       "      <td>0.422051</td>\n",
       "      <td>1.224076</td>\n",
       "      <td>0.719298</td>\n",
       "      <td>0.77735</td>\n",
       "      <td>0.776351</td>\n",
       "      <td>0.722579</td>\n",
       "      <td>0.816574</td>\n",
       "      <td>0.820996</td>\n",
       "      <td>0.68906</td>\n",
       "      <td>0.592212</td>\n",
       "      <td>1.573242</td>\n",
       "      <td>64.798645</td>\n",
       "      <td>2283.620126</td>\n",
       "      <td>0.265868</td>\n",
       "    </tr>\n",
       "    <tr>\n",
       "      <th>std</th>\n",
       "      <td>0.500014</td>\n",
       "      <td>0.368767</td>\n",
       "      <td>0.499745</td>\n",
       "      <td>0.457834</td>\n",
       "      <td>24.542847</td>\n",
       "      <td>0.295577</td>\n",
       "      <td>0.493922</td>\n",
       "      <td>0.778727</td>\n",
       "      <td>0.796531</td>\n",
       "      <td>0.77822</td>\n",
       "      <td>0.778575</td>\n",
       "      <td>0.795621</td>\n",
       "      <td>0.763104</td>\n",
       "      <td>0.761254</td>\n",
       "      <td>0.83317</td>\n",
       "      <td>0.491458</td>\n",
       "      <td>1.067423</td>\n",
       "      <td>30.094030</td>\n",
       "      <td>2266.680399</td>\n",
       "      <td>0.441826</td>\n",
       "    </tr>\n",
       "    <tr>\n",
       "      <th>min</th>\n",
       "      <td>0.000000</td>\n",
       "      <td>0.000000</td>\n",
       "      <td>0.000000</td>\n",
       "      <td>0.000000</td>\n",
       "      <td>1.000000</td>\n",
       "      <td>0.000000</td>\n",
       "      <td>0.000000</td>\n",
       "      <td>0.000000</td>\n",
       "      <td>0.000000</td>\n",
       "      <td>0.00000</td>\n",
       "      <td>0.000000</td>\n",
       "      <td>0.000000</td>\n",
       "      <td>0.000000</td>\n",
       "      <td>0.000000</td>\n",
       "      <td>0.00000</td>\n",
       "      <td>0.000000</td>\n",
       "      <td>0.000000</td>\n",
       "      <td>18.250000</td>\n",
       "      <td>18.800000</td>\n",
       "      <td>0.000000</td>\n",
       "    </tr>\n",
       "    <tr>\n",
       "      <th>25%</th>\n",
       "      <td>0.000000</td>\n",
       "      <td>0.000000</td>\n",
       "      <td>0.000000</td>\n",
       "      <td>0.000000</td>\n",
       "      <td>9.000000</td>\n",
       "      <td>1.000000</td>\n",
       "      <td>0.000000</td>\n",
       "      <td>1.000000</td>\n",
       "      <td>0.000000</td>\n",
       "      <td>0.00000</td>\n",
       "      <td>0.000000</td>\n",
       "      <td>0.000000</td>\n",
       "      <td>0.000000</td>\n",
       "      <td>0.000000</td>\n",
       "      <td>0.00000</td>\n",
       "      <td>0.000000</td>\n",
       "      <td>1.000000</td>\n",
       "      <td>35.550000</td>\n",
       "      <td>401.400000</td>\n",
       "      <td>0.000000</td>\n",
       "    </tr>\n",
       "    <tr>\n",
       "      <th>50%</th>\n",
       "      <td>1.000000</td>\n",
       "      <td>0.000000</td>\n",
       "      <td>0.000000</td>\n",
       "      <td>0.000000</td>\n",
       "      <td>29.000000</td>\n",
       "      <td>1.000000</td>\n",
       "      <td>0.000000</td>\n",
       "      <td>1.000000</td>\n",
       "      <td>1.000000</td>\n",
       "      <td>1.00000</td>\n",
       "      <td>1.000000</td>\n",
       "      <td>1.000000</td>\n",
       "      <td>1.000000</td>\n",
       "      <td>1.000000</td>\n",
       "      <td>0.00000</td>\n",
       "      <td>1.000000</td>\n",
       "      <td>2.000000</td>\n",
       "      <td>70.350000</td>\n",
       "      <td>1397.300000</td>\n",
       "      <td>0.000000</td>\n",
       "    </tr>\n",
       "    <tr>\n",
       "      <th>75%</th>\n",
       "      <td>1.000000</td>\n",
       "      <td>0.000000</td>\n",
       "      <td>1.000000</td>\n",
       "      <td>1.000000</td>\n",
       "      <td>55.000000</td>\n",
       "      <td>1.000000</td>\n",
       "      <td>1.000000</td>\n",
       "      <td>2.000000</td>\n",
       "      <td>1.000000</td>\n",
       "      <td>1.00000</td>\n",
       "      <td>1.000000</td>\n",
       "      <td>1.000000</td>\n",
       "      <td>1.000000</td>\n",
       "      <td>1.000000</td>\n",
       "      <td>1.00000</td>\n",
       "      <td>1.000000</td>\n",
       "      <td>2.000000</td>\n",
       "      <td>89.900000</td>\n",
       "      <td>3798.375000</td>\n",
       "      <td>1.000000</td>\n",
       "    </tr>\n",
       "    <tr>\n",
       "      <th>max</th>\n",
       "      <td>1.000000</td>\n",
       "      <td>1.000000</td>\n",
       "      <td>1.000000</td>\n",
       "      <td>1.000000</td>\n",
       "      <td>72.000000</td>\n",
       "      <td>1.000000</td>\n",
       "      <td>1.000000</td>\n",
       "      <td>2.000000</td>\n",
       "      <td>2.000000</td>\n",
       "      <td>2.00000</td>\n",
       "      <td>2.000000</td>\n",
       "      <td>2.000000</td>\n",
       "      <td>2.000000</td>\n",
       "      <td>2.000000</td>\n",
       "      <td>2.00000</td>\n",
       "      <td>1.000000</td>\n",
       "      <td>3.000000</td>\n",
       "      <td>118.750000</td>\n",
       "      <td>8684.800000</td>\n",
       "      <td>1.000000</td>\n",
       "    </tr>\n",
       "  </tbody>\n",
       "</table>\n",
       "</div>"
      ],
      "text/plain": [
       "            gender  SeniorCitizen      Partner   Dependents       Tenure  \\\n",
       "count  7011.000000    7011.000000  7011.000000  7011.000000  7011.000000   \n",
       "mean      0.504636       0.162316     0.482955     0.298959    32.426615   \n",
       "std       0.500014       0.368767     0.499745     0.457834    24.542847   \n",
       "min       0.000000       0.000000     0.000000     0.000000     1.000000   \n",
       "25%       0.000000       0.000000     0.000000     0.000000     9.000000   \n",
       "50%       1.000000       0.000000     0.000000     0.000000    29.000000   \n",
       "75%       1.000000       0.000000     1.000000     1.000000    55.000000   \n",
       "max       1.000000       1.000000     1.000000     1.000000    72.000000   \n",
       "\n",
       "       PhoneService  MultipleLines  InternetService  OnlineSecurity  \\\n",
       "count   7011.000000    7011.000000      7011.000000     7011.000000   \n",
       "mean       0.903295       0.422051         1.224076        0.719298   \n",
       "std        0.295577       0.493922         0.778727        0.796531   \n",
       "min        0.000000       0.000000         0.000000        0.000000   \n",
       "25%        1.000000       0.000000         1.000000        0.000000   \n",
       "50%        1.000000       0.000000         1.000000        1.000000   \n",
       "75%        1.000000       1.000000         2.000000        1.000000   \n",
       "max        1.000000       1.000000         2.000000        2.000000   \n",
       "\n",
       "       OnlineBackup  DeviceProtection  TechSupport  StreamingTV  \\\n",
       "count    7011.00000       7011.000000  7011.000000  7011.000000   \n",
       "mean        0.77735          0.776351     0.722579     0.816574   \n",
       "std         0.77822          0.778575     0.795621     0.763104   \n",
       "min         0.00000          0.000000     0.000000     0.000000   \n",
       "25%         0.00000          0.000000     0.000000     0.000000   \n",
       "50%         1.00000          1.000000     1.000000     1.000000   \n",
       "75%         1.00000          1.000000     1.000000     1.000000   \n",
       "max         2.00000          2.000000     2.000000     2.000000   \n",
       "\n",
       "       StreamingMovies    Contract  PaperlessBilling  PaymentMethod  \\\n",
       "count      7011.000000  7011.00000       7011.000000    7011.000000   \n",
       "mean          0.820996     0.68906          0.592212       1.573242   \n",
       "std           0.761254     0.83317          0.491458       1.067423   \n",
       "min           0.000000     0.00000          0.000000       0.000000   \n",
       "25%           0.000000     0.00000          0.000000       1.000000   \n",
       "50%           1.000000     0.00000          1.000000       2.000000   \n",
       "75%           1.000000     1.00000          1.000000       2.000000   \n",
       "max           2.000000     2.00000          1.000000       3.000000   \n",
       "\n",
       "       MonthlyCharges  TotalCharges        Churn  \n",
       "count     7011.000000   7011.000000  7011.000000  \n",
       "mean        64.798645   2283.620126     0.265868  \n",
       "std         30.094030   2266.680399     0.441826  \n",
       "min         18.250000     18.800000     0.000000  \n",
       "25%         35.550000    401.400000     0.000000  \n",
       "50%         70.350000   1397.300000     0.000000  \n",
       "75%         89.900000   3798.375000     1.000000  \n",
       "max        118.750000   8684.800000     1.000000  "
      ]
     },
     "execution_count": 32,
     "metadata": {},
     "output_type": "execute_result"
    }
   ],
   "source": [
    "df.describe()"
   ]
  },
  {
   "cell_type": "markdown",
   "id": "f18b000e",
   "metadata": {
    "slideshow": {
     "slide_type": "slide"
    }
   },
   "source": [
    "# **In the given data label encoding and one-hot-encoding is satisfied.**"
   ]
  },
  {
   "cell_type": "markdown",
   "id": "1aca3a28",
   "metadata": {
    "slideshow": {
     "slide_type": "subslide"
    }
   },
   "source": [
    "**there for we go for next process**"
   ]
  },
  {
   "cell_type": "code",
   "execution_count": 9,
   "id": "c5826c64",
   "metadata": {
    "slideshow": {
     "slide_type": "subslide"
    }
   },
   "outputs": [
    {
     "data": {
      "text/plain": [
       "0    5147\n",
       "1    1864\n",
       "Name: Churn, dtype: int64"
      ]
     },
     "execution_count": 9,
     "metadata": {},
     "output_type": "execute_result"
    }
   ],
   "source": [
    "df ['Churn'].value_counts()"
   ]
  },
  {
   "cell_type": "code",
   "execution_count": 10,
   "id": "0d80c30e",
   "metadata": {
    "slideshow": {
     "slide_type": "subslide"
    }
   },
   "outputs": [
    {
     "name": "stdout",
     "output_type": "stream",
     "text": [
      "72\n"
     ]
    }
   ],
   "source": [
    "print(df['Tenure'].max())"
   ]
  },
  {
   "cell_type": "markdown",
   "id": "fd82c20d",
   "metadata": {
    "slideshow": {
     "slide_type": "slide"
    }
   },
   "source": [
    "# **Analysis**"
   ]
  },
  {
   "cell_type": "code",
   "execution_count": 34,
   "id": "e7218c4e",
   "metadata": {
    "slideshow": {
     "slide_type": "subslide"
    }
   },
   "outputs": [],
   "source": [
    "corelation = df.corr()"
   ]
  },
  {
   "cell_type": "code",
   "execution_count": 72,
   "id": "6c0e1237",
   "metadata": {
    "slideshow": {
     "slide_type": "subslide"
    }
   },
   "outputs": [
    {
     "data": {
      "text/html": [
       "<div>\n",
       "<style scoped>\n",
       "    .dataframe tbody tr th:only-of-type {\n",
       "        vertical-align: middle;\n",
       "    }\n",
       "\n",
       "    .dataframe tbody tr th {\n",
       "        vertical-align: top;\n",
       "    }\n",
       "\n",
       "    .dataframe thead th {\n",
       "        text-align: right;\n",
       "    }\n",
       "</style>\n",
       "<table border=\"1\" class=\"dataframe\">\n",
       "  <thead>\n",
       "    <tr style=\"text-align: right;\">\n",
       "      <th></th>\n",
       "      <th>gender</th>\n",
       "      <th>SeniorCitizen</th>\n",
       "      <th>Partner</th>\n",
       "      <th>Dependents</th>\n",
       "      <th>Tenure</th>\n",
       "      <th>PhoneService</th>\n",
       "      <th>MultipleLines</th>\n",
       "      <th>InternetService</th>\n",
       "      <th>OnlineSecurity</th>\n",
       "      <th>OnlineBackup</th>\n",
       "      <th>DeviceProtection</th>\n",
       "      <th>TechSupport</th>\n",
       "      <th>StreamingTV</th>\n",
       "      <th>StreamingMovies</th>\n",
       "      <th>Contract</th>\n",
       "      <th>PaperlessBilling</th>\n",
       "      <th>PaymentMethod</th>\n",
       "      <th>MonthlyCharges</th>\n",
       "      <th>TotalCharges</th>\n",
       "      <th>Churn</th>\n",
       "    </tr>\n",
       "  </thead>\n",
       "  <tbody>\n",
       "    <tr>\n",
       "      <th>gender</th>\n",
       "      <td>1.000000</td>\n",
       "      <td>-0.001760</td>\n",
       "      <td>-0.002110</td>\n",
       "      <td>0.009524</td>\n",
       "      <td>0.005866</td>\n",
       "      <td>-0.008549</td>\n",
       "      <td>-0.009367</td>\n",
       "      <td>-0.010545</td>\n",
       "      <td>-0.003896</td>\n",
       "      <td>-0.001930</td>\n",
       "      <td>0.005595</td>\n",
       "      <td>0.000902</td>\n",
       "      <td>0.001481</td>\n",
       "      <td>-0.000256</td>\n",
       "      <td>0.000721</td>\n",
       "      <td>-0.012334</td>\n",
       "      <td>0.016269</td>\n",
       "      <td>-0.014483</td>\n",
       "      <td>0.000217</td>\n",
       "      <td>-0.008808</td>\n",
       "    </tr>\n",
       "    <tr>\n",
       "      <th>SeniorCitizen</th>\n",
       "      <td>-0.001760</td>\n",
       "      <td>1.000000</td>\n",
       "      <td>0.016563</td>\n",
       "      <td>-0.210570</td>\n",
       "      <td>0.015723</td>\n",
       "      <td>0.009227</td>\n",
       "      <td>0.142312</td>\n",
       "      <td>0.259308</td>\n",
       "      <td>-0.210561</td>\n",
       "      <td>-0.152417</td>\n",
       "      <td>-0.156255</td>\n",
       "      <td>-0.222827</td>\n",
       "      <td>-0.129399</td>\n",
       "      <td>-0.120583</td>\n",
       "      <td>-0.141680</td>\n",
       "      <td>0.156687</td>\n",
       "      <td>-0.038541</td>\n",
       "      <td>0.220199</td>\n",
       "      <td>0.102510</td>\n",
       "      <td>0.150981</td>\n",
       "    </tr>\n",
       "    <tr>\n",
       "      <th>Partner</th>\n",
       "      <td>-0.002110</td>\n",
       "      <td>0.016563</td>\n",
       "      <td>1.000000</td>\n",
       "      <td>0.451855</td>\n",
       "      <td>0.382425</td>\n",
       "      <td>0.017812</td>\n",
       "      <td>0.142133</td>\n",
       "      <td>0.000835</td>\n",
       "      <td>0.080797</td>\n",
       "      <td>0.086526</td>\n",
       "      <td>0.093592</td>\n",
       "      <td>0.068652</td>\n",
       "      <td>0.079707</td>\n",
       "      <td>0.075786</td>\n",
       "      <td>0.294590</td>\n",
       "      <td>-0.013493</td>\n",
       "      <td>-0.156976</td>\n",
       "      <td>0.097757</td>\n",
       "      <td>0.319383</td>\n",
       "      <td>-0.150037</td>\n",
       "    </tr>\n",
       "    <tr>\n",
       "      <th>Dependents</th>\n",
       "      <td>0.009524</td>\n",
       "      <td>-0.210570</td>\n",
       "      <td>0.451855</td>\n",
       "      <td>1.000000</td>\n",
       "      <td>0.164455</td>\n",
       "      <td>-0.001377</td>\n",
       "      <td>-0.024362</td>\n",
       "      <td>-0.177918</td>\n",
       "      <td>0.188683</td>\n",
       "      <td>0.161222</td>\n",
       "      <td>0.154783</td>\n",
       "      <td>0.179157</td>\n",
       "      <td>0.139014</td>\n",
       "      <td>0.124916</td>\n",
       "      <td>0.241111</td>\n",
       "      <td>-0.110491</td>\n",
       "      <td>-0.043060</td>\n",
       "      <td>-0.112404</td>\n",
       "      <td>0.065354</td>\n",
       "      <td>-0.163793</td>\n",
       "    </tr>\n",
       "    <tr>\n",
       "      <th>Tenure</th>\n",
       "      <td>0.005866</td>\n",
       "      <td>0.015723</td>\n",
       "      <td>0.382425</td>\n",
       "      <td>0.164455</td>\n",
       "      <td>1.000000</td>\n",
       "      <td>0.007045</td>\n",
       "      <td>0.332251</td>\n",
       "      <td>0.031041</td>\n",
       "      <td>0.147487</td>\n",
       "      <td>0.180403</td>\n",
       "      <td>0.180776</td>\n",
       "      <td>0.147409</td>\n",
       "      <td>0.138227</td>\n",
       "      <td>0.142593</td>\n",
       "      <td>0.677242</td>\n",
       "      <td>0.005295</td>\n",
       "      <td>-0.370064</td>\n",
       "      <td>0.246746</td>\n",
       "      <td>0.825846</td>\n",
       "      <td>-0.354279</td>\n",
       "    </tr>\n",
       "    <tr>\n",
       "      <th>PhoneService</th>\n",
       "      <td>-0.008549</td>\n",
       "      <td>0.009227</td>\n",
       "      <td>0.017812</td>\n",
       "      <td>-0.001377</td>\n",
       "      <td>0.007045</td>\n",
       "      <td>1.000000</td>\n",
       "      <td>0.279607</td>\n",
       "      <td>0.094157</td>\n",
       "      <td>0.125232</td>\n",
       "      <td>0.150107</td>\n",
       "      <td>0.139081</td>\n",
       "      <td>0.123692</td>\n",
       "      <td>0.172430</td>\n",
       "      <td>0.165240</td>\n",
       "      <td>0.003002</td>\n",
       "      <td>0.016223</td>\n",
       "      <td>-0.005128</td>\n",
       "      <td>0.248316</td>\n",
       "      <td>0.112637</td>\n",
       "      <td>0.011206</td>\n",
       "    </tr>\n",
       "    <tr>\n",
       "      <th>MultipleLines</th>\n",
       "      <td>-0.009367</td>\n",
       "      <td>0.142312</td>\n",
       "      <td>0.142133</td>\n",
       "      <td>-0.024362</td>\n",
       "      <td>0.332251</td>\n",
       "      <td>0.279607</td>\n",
       "      <td>1.000000</td>\n",
       "      <td>0.344536</td>\n",
       "      <td>-0.162226</td>\n",
       "      <td>-0.099157</td>\n",
       "      <td>-0.100241</td>\n",
       "      <td>-0.160127</td>\n",
       "      <td>-0.062162</td>\n",
       "      <td>-0.061586</td>\n",
       "      <td>0.108179</td>\n",
       "      <td>0.163752</td>\n",
       "      <td>-0.171605</td>\n",
       "      <td>0.490363</td>\n",
       "      <td>0.468628</td>\n",
       "      <td>0.040069</td>\n",
       "    </tr>\n",
       "    <tr>\n",
       "      <th>InternetService</th>\n",
       "      <td>-0.010545</td>\n",
       "      <td>0.259308</td>\n",
       "      <td>0.000835</td>\n",
       "      <td>-0.177918</td>\n",
       "      <td>0.031041</td>\n",
       "      <td>0.094157</td>\n",
       "      <td>0.344536</td>\n",
       "      <td>1.000000</td>\n",
       "      <td>-0.764694</td>\n",
       "      <td>-0.685752</td>\n",
       "      <td>-0.682246</td>\n",
       "      <td>-0.760309</td>\n",
       "      <td>-0.616666</td>\n",
       "      <td>-0.619354</td>\n",
       "      <td>-0.288360</td>\n",
       "      <td>0.377826</td>\n",
       "      <td>-0.119199</td>\n",
       "      <td>0.905435</td>\n",
       "      <td>0.428088</td>\n",
       "      <td>0.316485</td>\n",
       "    </tr>\n",
       "    <tr>\n",
       "      <th>OnlineSecurity</th>\n",
       "      <td>-0.003896</td>\n",
       "      <td>-0.210561</td>\n",
       "      <td>0.080797</td>\n",
       "      <td>0.188683</td>\n",
       "      <td>0.147487</td>\n",
       "      <td>0.125232</td>\n",
       "      <td>-0.162226</td>\n",
       "      <td>-0.764694</td>\n",
       "      <td>1.000000</td>\n",
       "      <td>0.751340</td>\n",
       "      <td>0.748475</td>\n",
       "      <td>0.791230</td>\n",
       "      <td>0.701729</td>\n",
       "      <td>0.704775</td>\n",
       "      <td>0.389297</td>\n",
       "      <td>-0.334357</td>\n",
       "      <td>0.044989</td>\n",
       "      <td>-0.620567</td>\n",
       "      <td>-0.153315</td>\n",
       "      <td>-0.332698</td>\n",
       "    </tr>\n",
       "    <tr>\n",
       "      <th>OnlineBackup</th>\n",
       "      <td>-0.001930</td>\n",
       "      <td>-0.152417</td>\n",
       "      <td>0.086526</td>\n",
       "      <td>0.161222</td>\n",
       "      <td>0.180403</td>\n",
       "      <td>0.150107</td>\n",
       "      <td>-0.099157</td>\n",
       "      <td>-0.685752</td>\n",
       "      <td>0.751340</td>\n",
       "      <td>1.000000</td>\n",
       "      <td>0.740194</td>\n",
       "      <td>0.753841</td>\n",
       "      <td>0.720079</td>\n",
       "      <td>0.716266</td>\n",
       "      <td>0.350176</td>\n",
       "      <td>-0.261298</td>\n",
       "      <td>0.028306</td>\n",
       "      <td>-0.537716</td>\n",
       "      <td>-0.085496</td>\n",
       "      <td>-0.290827</td>\n",
       "    </tr>\n",
       "    <tr>\n",
       "      <th>DeviceProtection</th>\n",
       "      <td>0.005595</td>\n",
       "      <td>-0.156255</td>\n",
       "      <td>0.093592</td>\n",
       "      <td>0.154783</td>\n",
       "      <td>0.180776</td>\n",
       "      <td>0.139081</td>\n",
       "      <td>-0.100241</td>\n",
       "      <td>-0.682246</td>\n",
       "      <td>0.748475</td>\n",
       "      <td>0.740194</td>\n",
       "      <td>1.000000</td>\n",
       "      <td>0.767788</td>\n",
       "      <td>0.762901</td>\n",
       "      <td>0.766423</td>\n",
       "      <td>0.389781</td>\n",
       "      <td>-0.276410</td>\n",
       "      <td>0.022116</td>\n",
       "      <td>-0.512934</td>\n",
       "      <td>-0.077746</td>\n",
       "      <td>-0.280799</td>\n",
       "    </tr>\n",
       "    <tr>\n",
       "      <th>TechSupport</th>\n",
       "      <td>0.000902</td>\n",
       "      <td>-0.222827</td>\n",
       "      <td>0.068652</td>\n",
       "      <td>0.179157</td>\n",
       "      <td>0.147409</td>\n",
       "      <td>0.123692</td>\n",
       "      <td>-0.160127</td>\n",
       "      <td>-0.760309</td>\n",
       "      <td>0.791230</td>\n",
       "      <td>0.753841</td>\n",
       "      <td>0.767788</td>\n",
       "      <td>1.000000</td>\n",
       "      <td>0.737122</td>\n",
       "      <td>0.736935</td>\n",
       "      <td>0.417536</td>\n",
       "      <td>-0.310523</td>\n",
       "      <td>0.040474</td>\n",
       "      <td>-0.596571</td>\n",
       "      <td>-0.140251</td>\n",
       "      <td>-0.329473</td>\n",
       "    </tr>\n",
       "    <tr>\n",
       "      <th>StreamingTV</th>\n",
       "      <td>0.001481</td>\n",
       "      <td>-0.129399</td>\n",
       "      <td>0.079707</td>\n",
       "      <td>0.139014</td>\n",
       "      <td>0.138227</td>\n",
       "      <td>0.172430</td>\n",
       "      <td>-0.062162</td>\n",
       "      <td>-0.616666</td>\n",
       "      <td>0.701729</td>\n",
       "      <td>0.720079</td>\n",
       "      <td>0.762901</td>\n",
       "      <td>0.737122</td>\n",
       "      <td>1.000000</td>\n",
       "      <td>0.809583</td>\n",
       "      <td>0.326936</td>\n",
       "      <td>-0.203278</td>\n",
       "      <td>0.040313</td>\n",
       "      <td>-0.421726</td>\n",
       "      <td>-0.075678</td>\n",
       "      <td>-0.204822</td>\n",
       "    </tr>\n",
       "    <tr>\n",
       "      <th>StreamingMovies</th>\n",
       "      <td>-0.000256</td>\n",
       "      <td>-0.120583</td>\n",
       "      <td>0.075786</td>\n",
       "      <td>0.124916</td>\n",
       "      <td>0.142593</td>\n",
       "      <td>0.165240</td>\n",
       "      <td>-0.061586</td>\n",
       "      <td>-0.619354</td>\n",
       "      <td>0.704775</td>\n",
       "      <td>0.716266</td>\n",
       "      <td>0.766423</td>\n",
       "      <td>0.736935</td>\n",
       "      <td>0.809583</td>\n",
       "      <td>1.000000</td>\n",
       "      <td>0.331248</td>\n",
       "      <td>-0.211535</td>\n",
       "      <td>0.035887</td>\n",
       "      <td>-0.423442</td>\n",
       "      <td>-0.072156</td>\n",
       "      <td>-0.206271</td>\n",
       "    </tr>\n",
       "    <tr>\n",
       "      <th>Contract</th>\n",
       "      <td>0.000721</td>\n",
       "      <td>-0.141680</td>\n",
       "      <td>0.294590</td>\n",
       "      <td>0.241111</td>\n",
       "      <td>0.677242</td>\n",
       "      <td>0.003002</td>\n",
       "      <td>0.108179</td>\n",
       "      <td>-0.288360</td>\n",
       "      <td>0.389297</td>\n",
       "      <td>0.350176</td>\n",
       "      <td>0.389781</td>\n",
       "      <td>0.417536</td>\n",
       "      <td>0.326936</td>\n",
       "      <td>0.331248</td>\n",
       "      <td>1.000000</td>\n",
       "      <td>-0.174534</td>\n",
       "      <td>-0.230071</td>\n",
       "      <td>-0.072179</td>\n",
       "      <td>0.451251</td>\n",
       "      <td>-0.396594</td>\n",
       "    </tr>\n",
       "    <tr>\n",
       "      <th>PaperlessBilling</th>\n",
       "      <td>-0.012334</td>\n",
       "      <td>0.156687</td>\n",
       "      <td>-0.013493</td>\n",
       "      <td>-0.110491</td>\n",
       "      <td>0.005295</td>\n",
       "      <td>0.016223</td>\n",
       "      <td>0.163752</td>\n",
       "      <td>0.377826</td>\n",
       "      <td>-0.334357</td>\n",
       "      <td>-0.261298</td>\n",
       "      <td>-0.276410</td>\n",
       "      <td>-0.310523</td>\n",
       "      <td>-0.203278</td>\n",
       "      <td>-0.211535</td>\n",
       "      <td>-0.174534</td>\n",
       "      <td>1.000000</td>\n",
       "      <td>-0.061212</td>\n",
       "      <td>0.352393</td>\n",
       "      <td>0.158232</td>\n",
       "      <td>0.191254</td>\n",
       "    </tr>\n",
       "    <tr>\n",
       "      <th>PaymentMethod</th>\n",
       "      <td>0.016269</td>\n",
       "      <td>-0.038541</td>\n",
       "      <td>-0.156976</td>\n",
       "      <td>-0.043060</td>\n",
       "      <td>-0.370064</td>\n",
       "      <td>-0.005128</td>\n",
       "      <td>-0.171605</td>\n",
       "      <td>-0.119199</td>\n",
       "      <td>0.044989</td>\n",
       "      <td>0.028306</td>\n",
       "      <td>0.022116</td>\n",
       "      <td>0.040474</td>\n",
       "      <td>0.040313</td>\n",
       "      <td>0.035887</td>\n",
       "      <td>-0.230071</td>\n",
       "      <td>-0.061212</td>\n",
       "      <td>1.000000</td>\n",
       "      <td>-0.192716</td>\n",
       "      <td>-0.330936</td>\n",
       "      <td>0.108129</td>\n",
       "    </tr>\n",
       "    <tr>\n",
       "      <th>MonthlyCharges</th>\n",
       "      <td>-0.014483</td>\n",
       "      <td>0.220199</td>\n",
       "      <td>0.097757</td>\n",
       "      <td>-0.112404</td>\n",
       "      <td>0.246746</td>\n",
       "      <td>0.248316</td>\n",
       "      <td>0.490363</td>\n",
       "      <td>0.905435</td>\n",
       "      <td>-0.620567</td>\n",
       "      <td>-0.537716</td>\n",
       "      <td>-0.512934</td>\n",
       "      <td>-0.596571</td>\n",
       "      <td>-0.421726</td>\n",
       "      <td>-0.423442</td>\n",
       "      <td>-0.072179</td>\n",
       "      <td>0.352393</td>\n",
       "      <td>-0.192716</td>\n",
       "      <td>1.000000</td>\n",
       "      <td>0.651030</td>\n",
       "      <td>0.193041</td>\n",
       "    </tr>\n",
       "    <tr>\n",
       "      <th>TotalCharges</th>\n",
       "      <td>0.000217</td>\n",
       "      <td>0.102510</td>\n",
       "      <td>0.319383</td>\n",
       "      <td>0.065354</td>\n",
       "      <td>0.825846</td>\n",
       "      <td>0.112637</td>\n",
       "      <td>0.468628</td>\n",
       "      <td>0.428088</td>\n",
       "      <td>-0.153315</td>\n",
       "      <td>-0.085496</td>\n",
       "      <td>-0.077746</td>\n",
       "      <td>-0.140251</td>\n",
       "      <td>-0.075678</td>\n",
       "      <td>-0.072156</td>\n",
       "      <td>0.451251</td>\n",
       "      <td>0.158232</td>\n",
       "      <td>-0.330936</td>\n",
       "      <td>0.651030</td>\n",
       "      <td>1.000000</td>\n",
       "      <td>-0.199691</td>\n",
       "    </tr>\n",
       "    <tr>\n",
       "      <th>Churn</th>\n",
       "      <td>-0.008808</td>\n",
       "      <td>0.150981</td>\n",
       "      <td>-0.150037</td>\n",
       "      <td>-0.163793</td>\n",
       "      <td>-0.354279</td>\n",
       "      <td>0.011206</td>\n",
       "      <td>0.040069</td>\n",
       "      <td>0.316485</td>\n",
       "      <td>-0.332698</td>\n",
       "      <td>-0.290827</td>\n",
       "      <td>-0.280799</td>\n",
       "      <td>-0.329473</td>\n",
       "      <td>-0.204822</td>\n",
       "      <td>-0.206271</td>\n",
       "      <td>-0.396594</td>\n",
       "      <td>0.191254</td>\n",
       "      <td>0.108129</td>\n",
       "      <td>0.193041</td>\n",
       "      <td>-0.199691</td>\n",
       "      <td>1.000000</td>\n",
       "    </tr>\n",
       "  </tbody>\n",
       "</table>\n",
       "</div>"
      ],
      "text/plain": [
       "                    gender  SeniorCitizen   Partner  Dependents    Tenure  \\\n",
       "gender            1.000000      -0.001760 -0.002110    0.009524  0.005866   \n",
       "SeniorCitizen    -0.001760       1.000000  0.016563   -0.210570  0.015723   \n",
       "Partner          -0.002110       0.016563  1.000000    0.451855  0.382425   \n",
       "Dependents        0.009524      -0.210570  0.451855    1.000000  0.164455   \n",
       "Tenure            0.005866       0.015723  0.382425    0.164455  1.000000   \n",
       "PhoneService     -0.008549       0.009227  0.017812   -0.001377  0.007045   \n",
       "MultipleLines    -0.009367       0.142312  0.142133   -0.024362  0.332251   \n",
       "InternetService  -0.010545       0.259308  0.000835   -0.177918  0.031041   \n",
       "OnlineSecurity   -0.003896      -0.210561  0.080797    0.188683  0.147487   \n",
       "OnlineBackup     -0.001930      -0.152417  0.086526    0.161222  0.180403   \n",
       "DeviceProtection  0.005595      -0.156255  0.093592    0.154783  0.180776   \n",
       "TechSupport       0.000902      -0.222827  0.068652    0.179157  0.147409   \n",
       "StreamingTV       0.001481      -0.129399  0.079707    0.139014  0.138227   \n",
       "StreamingMovies  -0.000256      -0.120583  0.075786    0.124916  0.142593   \n",
       "Contract          0.000721      -0.141680  0.294590    0.241111  0.677242   \n",
       "PaperlessBilling -0.012334       0.156687 -0.013493   -0.110491  0.005295   \n",
       "PaymentMethod     0.016269      -0.038541 -0.156976   -0.043060 -0.370064   \n",
       "MonthlyCharges   -0.014483       0.220199  0.097757   -0.112404  0.246746   \n",
       "TotalCharges      0.000217       0.102510  0.319383    0.065354  0.825846   \n",
       "Churn            -0.008808       0.150981 -0.150037   -0.163793 -0.354279   \n",
       "\n",
       "                  PhoneService  MultipleLines  InternetService  \\\n",
       "gender               -0.008549      -0.009367        -0.010545   \n",
       "SeniorCitizen         0.009227       0.142312         0.259308   \n",
       "Partner               0.017812       0.142133         0.000835   \n",
       "Dependents           -0.001377      -0.024362        -0.177918   \n",
       "Tenure                0.007045       0.332251         0.031041   \n",
       "PhoneService          1.000000       0.279607         0.094157   \n",
       "MultipleLines         0.279607       1.000000         0.344536   \n",
       "InternetService       0.094157       0.344536         1.000000   \n",
       "OnlineSecurity        0.125232      -0.162226        -0.764694   \n",
       "OnlineBackup          0.150107      -0.099157        -0.685752   \n",
       "DeviceProtection      0.139081      -0.100241        -0.682246   \n",
       "TechSupport           0.123692      -0.160127        -0.760309   \n",
       "StreamingTV           0.172430      -0.062162        -0.616666   \n",
       "StreamingMovies       0.165240      -0.061586        -0.619354   \n",
       "Contract              0.003002       0.108179        -0.288360   \n",
       "PaperlessBilling      0.016223       0.163752         0.377826   \n",
       "PaymentMethod        -0.005128      -0.171605        -0.119199   \n",
       "MonthlyCharges        0.248316       0.490363         0.905435   \n",
       "TotalCharges          0.112637       0.468628         0.428088   \n",
       "Churn                 0.011206       0.040069         0.316485   \n",
       "\n",
       "                  OnlineSecurity  OnlineBackup  DeviceProtection  TechSupport  \\\n",
       "gender                 -0.003896     -0.001930          0.005595     0.000902   \n",
       "SeniorCitizen          -0.210561     -0.152417         -0.156255    -0.222827   \n",
       "Partner                 0.080797      0.086526          0.093592     0.068652   \n",
       "Dependents              0.188683      0.161222          0.154783     0.179157   \n",
       "Tenure                  0.147487      0.180403          0.180776     0.147409   \n",
       "PhoneService            0.125232      0.150107          0.139081     0.123692   \n",
       "MultipleLines          -0.162226     -0.099157         -0.100241    -0.160127   \n",
       "InternetService        -0.764694     -0.685752         -0.682246    -0.760309   \n",
       "OnlineSecurity          1.000000      0.751340          0.748475     0.791230   \n",
       "OnlineBackup            0.751340      1.000000          0.740194     0.753841   \n",
       "DeviceProtection        0.748475      0.740194          1.000000     0.767788   \n",
       "TechSupport             0.791230      0.753841          0.767788     1.000000   \n",
       "StreamingTV             0.701729      0.720079          0.762901     0.737122   \n",
       "StreamingMovies         0.704775      0.716266          0.766423     0.736935   \n",
       "Contract                0.389297      0.350176          0.389781     0.417536   \n",
       "PaperlessBilling       -0.334357     -0.261298         -0.276410    -0.310523   \n",
       "PaymentMethod           0.044989      0.028306          0.022116     0.040474   \n",
       "MonthlyCharges         -0.620567     -0.537716         -0.512934    -0.596571   \n",
       "TotalCharges           -0.153315     -0.085496         -0.077746    -0.140251   \n",
       "Churn                  -0.332698     -0.290827         -0.280799    -0.329473   \n",
       "\n",
       "                  StreamingTV  StreamingMovies  Contract  PaperlessBilling  \\\n",
       "gender               0.001481        -0.000256  0.000721         -0.012334   \n",
       "SeniorCitizen       -0.129399        -0.120583 -0.141680          0.156687   \n",
       "Partner              0.079707         0.075786  0.294590         -0.013493   \n",
       "Dependents           0.139014         0.124916  0.241111         -0.110491   \n",
       "Tenure               0.138227         0.142593  0.677242          0.005295   \n",
       "PhoneService         0.172430         0.165240  0.003002          0.016223   \n",
       "MultipleLines       -0.062162        -0.061586  0.108179          0.163752   \n",
       "InternetService     -0.616666        -0.619354 -0.288360          0.377826   \n",
       "OnlineSecurity       0.701729         0.704775  0.389297         -0.334357   \n",
       "OnlineBackup         0.720079         0.716266  0.350176         -0.261298   \n",
       "DeviceProtection     0.762901         0.766423  0.389781         -0.276410   \n",
       "TechSupport          0.737122         0.736935  0.417536         -0.310523   \n",
       "StreamingTV          1.000000         0.809583  0.326936         -0.203278   \n",
       "StreamingMovies      0.809583         1.000000  0.331248         -0.211535   \n",
       "Contract             0.326936         0.331248  1.000000         -0.174534   \n",
       "PaperlessBilling    -0.203278        -0.211535 -0.174534          1.000000   \n",
       "PaymentMethod        0.040313         0.035887 -0.230071         -0.061212   \n",
       "MonthlyCharges      -0.421726        -0.423442 -0.072179          0.352393   \n",
       "TotalCharges        -0.075678        -0.072156  0.451251          0.158232   \n",
       "Churn               -0.204822        -0.206271 -0.396594          0.191254   \n",
       "\n",
       "                  PaymentMethod  MonthlyCharges  TotalCharges     Churn  \n",
       "gender                 0.016269       -0.014483      0.000217 -0.008808  \n",
       "SeniorCitizen         -0.038541        0.220199      0.102510  0.150981  \n",
       "Partner               -0.156976        0.097757      0.319383 -0.150037  \n",
       "Dependents            -0.043060       -0.112404      0.065354 -0.163793  \n",
       "Tenure                -0.370064        0.246746      0.825846 -0.354279  \n",
       "PhoneService          -0.005128        0.248316      0.112637  0.011206  \n",
       "MultipleLines         -0.171605        0.490363      0.468628  0.040069  \n",
       "InternetService       -0.119199        0.905435      0.428088  0.316485  \n",
       "OnlineSecurity         0.044989       -0.620567     -0.153315 -0.332698  \n",
       "OnlineBackup           0.028306       -0.537716     -0.085496 -0.290827  \n",
       "DeviceProtection       0.022116       -0.512934     -0.077746 -0.280799  \n",
       "TechSupport            0.040474       -0.596571     -0.140251 -0.329473  \n",
       "StreamingTV            0.040313       -0.421726     -0.075678 -0.204822  \n",
       "StreamingMovies        0.035887       -0.423442     -0.072156 -0.206271  \n",
       "Contract              -0.230071       -0.072179      0.451251 -0.396594  \n",
       "PaperlessBilling      -0.061212        0.352393      0.158232  0.191254  \n",
       "PaymentMethod          1.000000       -0.192716     -0.330936  0.108129  \n",
       "MonthlyCharges        -0.192716        1.000000      0.651030  0.193041  \n",
       "TotalCharges          -0.330936        0.651030      1.000000 -0.199691  \n",
       "Churn                  0.108129        0.193041     -0.199691  1.000000  "
      ]
     },
     "execution_count": 72,
     "metadata": {},
     "output_type": "execute_result"
    }
   ],
   "source": [
    "corelation"
   ]
  },
  {
   "cell_type": "code",
   "execution_count": 73,
   "id": "be7357aa",
   "metadata": {
    "slideshow": {
     "slide_type": "subslide"
    }
   },
   "outputs": [
    {
     "data": {
      "image/png": "[encoded data removed]",
      "text/plain": [
       "<Figure size 360x360 with 1 Axes>"
      ]
     },
     "metadata": {
      "needs_background": "light"
     },
     "output_type": "display_data"
    }
   ],
   "source": [
    "sns.relplot(data=df, x='MonthlyCharges', y='TotalCharges')\n",
    "plt.show()\n",
    " "
   ]
  },
  {
   "cell_type": "code",
   "execution_count": 36,
   "id": "0115b824",
   "metadata": {
    "slideshow": {
     "slide_type": "subslide"
    }
   },
   "outputs": [
    {
     "name": "stderr",
     "output_type": "stream",
     "text": [
      "C:\\Users\\Lenovo\\anaconda3\\lib\\site-packages\\seaborn\\distributions.py:2619: FutureWarning: `distplot` is a deprecated function and will be removed in a future version. Please adapt your code to use either `displot` (a figure-level function with similar flexibility) or `histplot` (an axes-level function for histograms).\n",
      "  warnings.warn(msg, FutureWarning)\n"
     ]
    },
    {
     "data": {
      "text/plain": [
       "<AxesSubplot:xlabel='MonthlyCharges', ylabel='Density'>"
      ]
     },
     "execution_count": 36,
     "metadata": {},
     "output_type": "execute_result"
    },
    {
     "data": {
      "image/png": "[encoded data removed]",
      "text/plain": [
       "<Figure size 432x288 with 1 Axes>"
      ]
     },
     "metadata": {
      "needs_background": "light"
     },
     "output_type": "display_data"
    }
   ],
   "source": [
    "sns.distplot(df['MonthlyCharges'],bins=5)"
   ]
  },
  {
   "cell_type": "code",
   "execution_count": 37,
   "id": "0a91ad24",
   "metadata": {
    "slideshow": {
     "slide_type": "subslide"
    }
   },
   "outputs": [
    {
     "data": {
      "text/plain": [
       "<seaborn.axisgrid.FacetGrid at 0x22924e837f0>"
      ]
     },
     "execution_count": 37,
     "metadata": {},
     "output_type": "execute_result"
    },
    {
     "data": {
      "image/png": "[encoded data removed]",
      "text/plain": [
       "<Figure size 360x360 with 1 Axes>"
      ]
     },
     "metadata": {
      "needs_background": "light"
     },
     "output_type": "display_data"
    }
   ],
   "source": [
    "sns.catplot(x='Tenure',kind='box',data = df)"
   ]
  },
  {
   "cell_type": "code",
   "execution_count": null,
   "id": "d54ca12d",
   "metadata": {},
   "outputs": [],
   "source": [
    " "
   ]
  },
  {
   "cell_type": "markdown",
   "id": "6cbcbb7e",
   "metadata": {
    "slideshow": {
     "slide_type": "slide"
    }
   },
   "source": [
    "# Splitting the data into Training and Testing Sets"
   ]
  },
  {
   "cell_type": "code",
   "execution_count": 36,
   "id": "cbf3da6c",
   "metadata": {
    "slideshow": {
     "slide_type": "subslide"
    }
   },
   "outputs": [
    {
     "name": "stdout",
     "output_type": "stream",
     "text": [
      "Index(['gender', 'SeniorCitizen', 'Partner', 'Dependents', 'Tenure',\n",
      "       'PhoneService', 'MultipleLines', 'InternetService', 'OnlineSecurity',\n",
      "       'OnlineBackup', 'DeviceProtection', 'TechSupport', 'StreamingTV',\n",
      "       'StreamingMovies', 'Contract', 'PaperlessBilling', 'PaymentMethod',\n",
      "       'MonthlyCharges', 'TotalCharges'],\n",
      "      dtype='object')\n",
      "Churn\n"
     ]
    }
   ],
   "source": [
    "# select independent variables\n",
    "x = df.drop(columns = 'Churn')\n",
    " \n",
    "# select depentent variables    \n",
    "y = df.loc[:,'Churn']\n",
    "\n",
    "print(x.columns)\n",
    "print(y.name)"
   ]
  },
  {
   "cell_type": "code",
   "execution_count": 23,
   "id": "fccb3261",
   "metadata": {
    "slideshow": {
     "slide_type": "subslide"
    }
   },
   "outputs": [],
   "source": [
    "from sklearn.model_selection import train_test_split "
   ]
  },
  {
   "cell_type": "markdown",
   "id": "07403eae",
   "metadata": {
    "slideshow": {
     "slide_type": "subslide"
    }
   },
   "source": [
    " **testing and training**"
   ]
  },
  {
   "cell_type": "code",
   "execution_count": 24,
   "id": "b34436d4",
   "metadata": {
    "slideshow": {
     "slide_type": "subslide"
    }
   },
   "outputs": [],
   "source": [
    "x_train,x_test, y_train,y_test = train_test_split(x, y, test_size = 0.25, random_state=40, shuffle=True)"
   ]
  },
  {
   "cell_type": "markdown",
   "id": "75a4191f",
   "metadata": {
    "slideshow": {
     "slide_type": "subslide"
    }
   },
   "source": [
    "# **Assessing Multiple Algorithms**"
   ]
  },
  {
   "cell_type": "code",
   "execution_count": 30,
   "id": "f01d86cf",
   "metadata": {
    "slideshow": {
     "slide_type": "subslide"
    }
   },
   "outputs": [],
   "source": [
    "import numpy as np\n",
    "import pandas as pd\n",
    "from sklearn.model_selection import train_test_split\n",
    "from sklearn.neighbors import KNeighborsClassifier\n",
    "import matplotlib.pyplot as plt\n",
    "import seaborn as sns\n",
    "\n",
    "from sklearn.linear_model import LogisticRegression\n",
    "from sklearn.svm import SVC\n",
    "from sklearn.ensemble import RandomForestClassifier\n",
    "from sklearn.ensemble import GradientBoostingClassifier\n",
    "from sklearn.metrics import accuracy_score"
   ]
  },
  {
   "cell_type": "markdown",
   "id": "fdde77b3",
   "metadata": {
    "slideshow": {
     "slide_type": "subslide"
    }
   },
   "source": [
    "**Create Models**"
   ]
  },
  {
   "cell_type": "code",
   "execution_count": 34,
   "id": "8cc77a9c",
   "metadata": {
    "slideshow": {
     "slide_type": "subslide"
    }
   },
   "outputs": [],
   "source": [
    "def create_models(seed=2):\n",
    "    \n",
    "    models = []\n",
    "    models.append(('k_nearest_neighbors', KNeighborsClassifier()))\n",
    "    models.append(('logistic_regression', LogisticRegression(random_state=seed)))\n",
    "    models.append(('support_vector_machines',SVC(random_state=seed)))\n",
    "    models.append(('random_forest',RandomForestClassifier(random_state=seed)))\n",
    "    models.append(('gradient_boosting', GradientBoostingClassifier(random_state=seed)))\n",
    "\n",
    "    return models\n",
    "\n",
    "#create a list with all the algorithms\n",
    "models = create_models()"
   ]
  },
  {
   "cell_type": "markdown",
   "id": "7ab8c9b6",
   "metadata": {
    "slideshow": {
     "slide_type": "subslide"
    }
   },
   "source": [
    "**Test the accuracy of the each model using default hyperparameters**"
   ]
  },
  {
   "cell_type": "code",
   "execution_count": 38,
   "id": "fe17673d",
   "metadata": {
    "slideshow": {
     "slide_type": "subslide"
    }
   },
   "outputs": [
    {
     "name": "stdout",
     "output_type": "stream",
     "text": [
      "Classifier: k_nearest_neighbors,Accuracy: 0.7604107244723332)\n",
      "Classifier: logistic_regression,Accuracy: 0.8054763262977752)\n"
     ]
    },
    {
     "name": "stderr",
     "output_type": "stream",
     "text": [
      "C:\\Users\\Lenovo\\anaconda3\\lib\\site-packages\\sklearn\\linear_model\\_logistic.py:814: ConvergenceWarning: lbfgs failed to converge (status=1):\n",
      "STOP: TOTAL NO. of ITERATIONS REACHED LIMIT.\n",
      "\n",
      "Increase the number of iterations (max_iter) or scale the data as shown in:\n",
      "    https://scikit-learn.org/stable/modules/preprocessing.html\n",
      "Please also refer to the documentation for alternative solver options:\n",
      "    https://scikit-learn.org/stable/modules/linear_model.html#logistic-regression\n",
      "  n_iter_i = _check_optimize_result(\n"
     ]
    },
    {
     "name": "stdout",
     "output_type": "stream",
     "text": [
      "Classifier: support_vector_machines,Accuracy: 0.7450085567598402)\n",
      "Classifier: random_forest,Accuracy: 0.7900741585852824)\n",
      "Classifier: gradient_boosting,Accuracy: 0.8106103822019395)\n"
     ]
    }
   ],
   "source": [
    "results = []\n",
    "names = []\n",
    "Scoring = 'accuracy'\n",
    "for name, model in models:\n",
    "    \n",
    "    #fit the models with the traning data\n",
    "    model.fit(x_train, y_train).predict(x_test)\n",
    "    \n",
    "    #make prediction with testing data\n",
    "    predictions = model.predict(x_test)\n",
    "    \n",
    "    #calculate accuracy\n",
    "    accuracy = accuracy_score(y_test, predictions)\n",
    "    \n",
    "    #append the model nae and the accuracy to the lists\n",
    "    results.append(accuracy)\n",
    "    names.append(name)\n",
    "    \n",
    "    #print classifier accuracy\n",
    "    print('Classifier: {},Accuracy: {})'.format(name,accuracy))"
   ]
  },
  {
   "cell_type": "markdown",
   "id": "fbd76d1b",
   "metadata": {
    "slideshow": {
     "slide_type": "slide"
    }
   },
   "source": [
    "# Conclution"
   ]
  },
  {
   "cell_type": "markdown",
   "id": "f56458c3",
   "metadata": {
    "slideshow": {
     "slide_type": "subslide"
    }
   },
   "source": [
    "After testing with several models Gradient Boosting algorithms give 80% accuracy rate."
   ]
  },
  {
   "cell_type": "markdown",
   "id": "813260b6",
   "metadata": {
    "slideshow": {
     "slide_type": "subslide"
    }
   },
   "source": [
    "**gradient boosting**"
   ]
  },
  {
   "cell_type": "markdown",
   "id": "f242f471",
   "metadata": {
    "slideshow": {
     "slide_type": "subslide"
    }
   },
   "source": [
    "Gradient Boosting is a functional gradient algorithm that repeatedly selects a function that leads in the direction of a weak hypothesis or negative gradient so that it can minimize a loss function. Gradient boosting classifier combines several weak learning models to produce a powerful predicting model."
   ]
  },
  {
   "cell_type": "code",
   "execution_count": null,
   "id": "56c285a2",
   "metadata": {},
   "outputs": [],
   "source": []
  }
 ],
 "metadata": {
  "celltoolbar": "Slideshow",
  "kernelspec": {
   "display_name": "Python 3 (ipykernel)",
   "language": "python",
   "name": "python3"
  },
  "language_info": {
   "codemirror_mode": {
    "name": "ipython",
    "version": 3
   },
   "file_extension": ".py",
   "mimetype": "text/x-python",
   "name": "python",
   "nbconvert_exporter": "python",
   "pygments_lexer": "ipython3",
   "version": "3.9.12"
  }
 },
 "nbformat": 4,
 "nbformat_minor": 5
}
